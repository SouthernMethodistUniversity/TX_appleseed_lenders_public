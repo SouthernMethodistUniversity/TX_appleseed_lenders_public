{
 "cells": [
  {
   "cell_type": "code",
   "execution_count": null,
   "id": "48bfba1f-5132-401e-b050-9213962ea655",
   "metadata": {},
   "outputs": [],
   "source": [
    "import geopandas as geo\n",
    "import pandas as pd\n",
    "%config InlineBackend.figure_format ='retina'"
   ]
  },
  {
   "cell_type": "code",
   "execution_count": null,
   "id": "84fc1a44-4794-4cf6-96a7-2f4a774b1981",
   "metadata": {},
   "outputs": [],
   "source": [
    "from re import sub\n",
    "from decimal import Decimal\n",
    "import matplotlib as plt"
   ]
  },
  {
   "cell_type": "code",
   "execution_count": null,
   "id": "99aa35ba-f4db-4069-a5af-5914c2b461d3",
   "metadata": {},
   "outputs": [],
   "source": [
    "from shapely.geometry import Point, Polygon"
   ]
  },
  {
   "cell_type": "code",
   "execution_count": null,
   "id": "f5fe688f-70a8-49e3-afd9-59fcd9d8326c",
   "metadata": {},
   "outputs": [],
   "source": [
    "import contextily as cx\n",
    "import numpy as np"
   ]
  },
  {
   "cell_type": "code",
   "execution_count": null,
   "id": "a4a450ac-daea-4bb0-bea7-88f49910785e",
   "metadata": {},
   "outputs": [],
   "source": [
    "data=pd.read_csv(\"~/TX_appleseed_lenders_public/data/evictions_historic_merged.csv\")"
   ]
  },
  {
   "cell_type": "code",
   "execution_count": null,
   "id": "9dac1747-7312-4d5c-a6e6-27df8a6faa29",
   "metadata": {},
   "outputs": [],
   "source": [
    "data['GEOID_2020'] = data['GEOID_2020'].astype('str')\n",
    "data['JudgementTotal']=data['judgment_amt']#.apply(lambda x: float(Decimal(sub(r'[^\\d.]', '', x))))\n",
    "data['JudgementTotal'].sum()\n"
   ]
  },
  {
   "cell_type": "code",
   "execution_count": null,
   "id": "cfe2d56f-812c-4c8f-adc4-0503fa2abaab",
   "metadata": {},
   "outputs": [],
   "source": [
    "money_df = data.groupby(by=\"GEOID_2020\").sum()[['JudgementTotal']].reset_index()"
   ]
  },
  {
   "cell_type": "code",
   "execution_count": null,
   "id": "34721854-60d2-4c22-821a-3c85f0c05256",
   "metadata": {},
   "outputs": [],
   "source": [
    "pts = data[['case_number','lon','lat','JudgementTotal']].copy()"
   ]
  },
  {
   "cell_type": "code",
   "execution_count": null,
   "id": "8ecca8c8-a103-4a5c-bcfd-74ec3fc60b66",
   "metadata": {},
   "outputs": [],
   "source": [
    "#pts['Size']=pts['JudgementTotal'].apply(lambda x: np.square(np.square(np.log10(x))) if x>1.0 else 0.0)\n",
    "pts['Size']=pts['JudgementTotal'].apply(lambda x: np.sqrt(x))"
   ]
  },
  {
   "cell_type": "code",
   "execution_count": null,
   "id": "38de4571-4285-4a67-836f-1a6573bc6716",
   "metadata": {},
   "outputs": [],
   "source": [
    "geometry = [Point(xy) for xy in zip(pts['lon'],pts['lat'])]\n",
    "\n",
    "geo_pts = geo.GeoDataFrame(pts,geometry=geometry,crs=\"EPSG:4326\")"
   ]
  },
  {
   "cell_type": "code",
   "execution_count": null,
   "id": "400921ef-f039-4eb0-b8dd-984ffff208af",
   "metadata": {},
   "outputs": [],
   "source": [
    "gdf = geo.read_file('~/TX_appleseed_lenders_public/shapefiles/PVS_21_v2_bg_481131.shp')\n"
   ]
  },
  {
   "cell_type": "code",
   "execution_count": null,
   "id": "bfb7f67e-5fdc-4afb-8a03-623f6492fca2",
   "metadata": {},
   "outputs": [],
   "source": [
    "gdf['GEOID']=gdf['BLKGRPID'].apply(lambda x: x[:-1])"
   ]
  },
  {
   "cell_type": "code",
   "execution_count": null,
   "id": "76ea2c17-7c7f-4a8c-94f7-433d8d734892",
   "metadata": {},
   "outputs": [],
   "source": [
    "df = pd.merge(money_df,gdf, left_on='GEOID_2020', right_on='GEOID', how='right')"
   ]
  },
  {
   "cell_type": "code",
   "execution_count": null,
   "id": "4824d756-a0b0-48fe-9aa4-dbc9f57349c5",
   "metadata": {},
   "outputs": [],
   "source": [
    "gdf = geo.GeoDataFrame(df[['JudgementTotal','GEOID','geometry']])"
   ]
  },
  {
   "cell_type": "code",
   "execution_count": null,
   "id": "0c7e83c3-845d-45d6-9518-ae4b45074e17",
   "metadata": {},
   "outputs": [],
   "source": [
    "base = gdf.plot(\"JudgementTotal\", missing_kwds={'color': 'white'}, scheme='natural_breaks', k=12, cmap='OrRd', legend=False)\n",
    "geo_pts.plot(ax=base, marker='*', color='green', markersize=10)"
   ]
  },
  {
   "cell_type": "code",
   "execution_count": null,
   "id": "44415e1d-bcd9-40e9-ae3a-dd184c869559",
   "metadata": {},
   "outputs": [],
   "source": [
    "gdf_wm = gdf.to_crs(epsg=3857)\n",
    "geo_pts_wm = geo_pts.to_crs(epsg=3857)\n",
    "\n",
    "locations=False\n",
    "\n",
    "color = plt.cm.get_cmap('gist_heat').reversed()\n",
    "ax = gdf_wm.plot(\"JudgementTotal\", missing_kwds={\n",
    "         \"color\": \"lightgrey\",\n",
    "         \"edgecolor\": \"grey\",\n",
    "         \"hatch\": \"///\",\n",
    "         \"label\": \"No Judgment Amounts\",\n",
    "     }, scheme='natural_breaks', k=8, cmap=color, edgecolor='k',legend=True, figsize=(15,15), alpha=0.5)\n",
    "cx.add_basemap(ax,source=cx.providers.OpenStreetMap.Mapnik, zoom=14)\n",
    "cx.add_basemap(ax,source=cx.providers.OpenStreetMap.Mapnik, zoom=12)\n",
    "\n",
    "leg = ax.get_legend()\n",
    "leg.set_bbox_to_anchor((1.2, 1.0, 0.0, 0.0))\n",
    "ax.set_axis_off()\n",
    "\n",
    "if locations:\n",
    "    geo_pts_wm.plot(ax=ax, marker='.', color='darkslateblue', markersize=geo_pts_wm.Size, alpha=.25)\n",
    "    ax.set_title('Total Judgment Amount ($) by Census Block with Locations', fontsize=24)\n",
    "    ax.figure.savefig(\"../results/total_judgment_by_censusblk_loc.jpg\", dpi=200, bbox_inches=\"tight\")\n",
    "\n",
    "else:\n",
    "        ax.set_title('Total Judgment Amount ($) by Census Block', fontsize=24)\n",
    "        ax.figure.savefig(\"../results/total_judgment_by_censusblk.jpg\", dpi=200, bbox_inches=\"tight\")\n"
   ]
  },
  {
   "cell_type": "code",
   "execution_count": null,
   "id": "f2ff37ec-b757-48a5-bd35-dc6bb6e0cc1a",
   "metadata": {},
   "outputs": [],
   "source": []
  }
 ],
 "metadata": {
  "kernelspec": {
   "display_name": "Python 3 (ipykernel)",
   "language": "python",
   "name": "python3"
  },
  "language_info": {
   "codemirror_mode": {
    "name": "ipython",
    "version": 3
   },
   "file_extension": ".py",
   "mimetype": "text/x-python",
   "name": "python",
   "nbconvert_exporter": "python",
   "pygments_lexer": "ipython3",
   "version": "3.11.5"
  }
 },
 "nbformat": 4,
 "nbformat_minor": 5
}
