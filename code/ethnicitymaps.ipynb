{
 "cells": [
  {
   "cell_type": "code",
   "execution_count": null,
   "id": "fc2bf401-2986-4163-8e53-3014070283cb",
   "metadata": {},
   "outputs": [],
   "source": [
    "import geopandas as geo\n",
    "import pandas as pd\n",
    "%config InlineBackend.figure_format ='retina'"
   ]
  },
  {
   "cell_type": "code",
   "execution_count": null,
   "id": "cb0ccd57-77a4-4105-9484-9fbccca4318e",
   "metadata": {},
   "outputs": [],
   "source": [
    "from re import sub\n",
    "from decimal import Decimal\n",
    "import matplotlib as plt"
   ]
  },
  {
   "cell_type": "code",
   "execution_count": null,
   "id": "f258a568-505d-4dc2-9aa4-18d2e1af06d7",
   "metadata": {},
   "outputs": [],
   "source": [
    "from shapely.geometry import Point, Polygon"
   ]
  },
  {
   "cell_type": "code",
   "execution_count": null,
   "id": "6cc778db-b840-4477-b723-7a827ff87160",
   "metadata": {},
   "outputs": [],
   "source": [
    "import contextily as cx\n",
    "import numpy as np"
   ]
  },
  {
   "cell_type": "code",
   "execution_count": null,
   "id": "01249091-0bf8-4cf8-89e4-5cf926aa88c8",
   "metadata": {},
   "outputs": [],
   "source": [
    "data=pd.read_csv(\"~/TX_appleseed_lenders_public/data/ethnicitydata_clean(1).csv\")\n",
    "pdata=pd.read_csv('~/TX_appleseed_lenders_public/data/cleanedpayday(1).csv')"
   ]
  },
  {
   "cell_type": "code",
   "execution_count": null,
   "id": "ddb0efda-ef23-4f37-958a-94b25fa56932",
   "metadata": {},
   "outputs": [],
   "source": [
    "pgraph = pdata[['Lat','Long']]"
   ]
  },
  {
   "cell_type": "code",
   "execution_count": null,
   "id": "541fe207-5338-407b-bfd4-c9314712fc59",
   "metadata": {},
   "outputs": [],
   "source": [
    "pgeometry = [Point(xy) for xy in zip(pdata['Long'],pdata['Lat'])]\n",
    "\n",
    "geo_pts_payday = geo.GeoDataFrame(pgraph,geometry=pgeometry,crs=\"EPSG:4326\")"
   ]
  },
  {
   "cell_type": "code",
   "execution_count": null,
   "id": "6e85c005-6bcb-4198-817f-dfe3c96acf9d",
   "metadata": {},
   "outputs": [],
   "source": [
    "data['Tract'] = data['Tract'].astype('str')"
   ]
  },
  {
   "cell_type": "code",
   "execution_count": null,
   "id": "64c54640-084c-4310-a883-44953abb2a9d",
   "metadata": {},
   "outputs": [],
   "source": [
    "data.columns"
   ]
  },
  {
   "cell_type": "code",
   "execution_count": null,
   "id": "2885852c-3354-41a7-9fa2-a5a2ee07afa2",
   "metadata": {},
   "outputs": [],
   "source": [
    "data['% Non-White'] = 100*(data['Total:'] - data['Total: White'])/data['Total:']"
   ]
  },
  {
   "cell_type": "code",
   "execution_count": null,
   "id": "12521938-0a0b-4f5a-a0d7-3b81b2859dd0",
   "metadata": {},
   "outputs": [],
   "source": [
    "interest = 'Total: Black'\n",
    "graph = data[['Tract',interest]]"
   ]
  },
  {
   "cell_type": "code",
   "execution_count": null,
   "id": "18f12166-5768-4954-87fe-10536fb499b9",
   "metadata": {},
   "outputs": [],
   "source": [
    "gdf = geo.read_file('~/TX_appleseed_lenders_public/shapefiles/PVS_21_v2_bg_481131.shp')"
   ]
  },
  {
   "cell_type": "code",
   "execution_count": null,
   "id": "17ab6fa7-1b9f-4ada-920b-112a25d9e0ea",
   "metadata": {},
   "outputs": [],
   "source": [
    "gdf = geo.GeoDataFrame(gdf)"
   ]
  },
  {
   "cell_type": "code",
   "execution_count": null,
   "id": "354549c3-a92e-4ea8-a6fb-03cdf1528d58",
   "metadata": {},
   "outputs": [],
   "source": [
    "data = graph.join(gdf)"
   ]
  },
  {
   "cell_type": "code",
   "execution_count": null,
   "id": "bee9cde0-b585-4f57-a4aa-8b92ec03c872",
   "metadata": {},
   "outputs": [],
   "source": [
    "gdf = geo.GeoDataFrame(data)"
   ]
  },
  {
   "cell_type": "code",
   "execution_count": null,
   "id": "ea3ceab3-b6f3-47e6-8e89-5947d58f65b1",
   "metadata": {},
   "outputs": [],
   "source": [
    "edata=pd.read_csv(\"~/TX_appleseed_lenders_public/data/evictions_historic_merged.csv\")"
   ]
  },
  {
   "cell_type": "code",
   "execution_count": null,
   "id": "7aab1047-9c22-4b83-97ce-036e17656ec0",
   "metadata": {},
   "outputs": [],
   "source": [
    "edata['GEOID_2020'] = edata['GEOID_2020'].astype('str')\n",
    "edata['JudgementTotal']=edata['judgment_amt']"
   ]
  },
  {
   "cell_type": "code",
   "execution_count": null,
   "id": "5b4d0eb0-a54a-46fb-831f-3b3b7257c650",
   "metadata": {},
   "outputs": [],
   "source": [
    "money_df = edata.groupby(by=\"GEOID_2020\").sum()[['JudgementTotal']].reset_index()"
   ]
  },
  {
   "cell_type": "code",
   "execution_count": null,
   "id": "c6342393-dbba-402c-a25e-4844b4a10766",
   "metadata": {},
   "outputs": [],
   "source": [
    "pts = edata[['case_number','lon','lat','JudgementTotal']].copy()"
   ]
  },
  {
   "cell_type": "code",
   "execution_count": null,
   "id": "7287078a-fb81-4448-9e01-0d072ebd4e9f",
   "metadata": {},
   "outputs": [],
   "source": [
    "pts['Size']=pts['JudgementTotal'].apply(lambda x: np.sqrt(x))"
   ]
  },
  {
   "cell_type": "code",
   "execution_count": null,
   "id": "b7b44167-f303-40ae-9369-b57a4b1046e3",
   "metadata": {},
   "outputs": [],
   "source": [
    "geometry = [Point(xy) for xy in zip(pts['lon'],pts['lat'])]\n",
    "\n",
    "geo_pts = geo.GeoDataFrame(pts,geometry=geometry,crs=\"EPSG:4326\")"
   ]
  },
  {
   "cell_type": "code",
   "execution_count": null,
   "id": "0d1b906b-4cac-4376-9d34-49e86f0ce3ba",
   "metadata": {},
   "outputs": [],
   "source": [
    "egdf = geo.read_file('~/TX_appleseed_lenders_public/shapefiles/PVS_21_v2_bg_481131.shp')"
   ]
  },
  {
   "cell_type": "code",
   "execution_count": null,
   "id": "8ce45812-6a5f-4646-89c4-209baf704cb5",
   "metadata": {},
   "outputs": [],
   "source": [
    "egdf['GEOID']=gdf['BLKGRPID'].apply(lambda x: x[:-1])"
   ]
  },
  {
   "cell_type": "code",
   "execution_count": null,
   "id": "8c8f5a30-db1f-48ee-98e5-c79e9a326028",
   "metadata": {},
   "outputs": [],
   "source": [
    "edf = pd.merge(money_df,egdf, left_on='GEOID_2020', right_on='GEOID', how='right')"
   ]
  },
  {
   "cell_type": "code",
   "execution_count": null,
   "id": "21a9be9c-7589-41ad-956f-131167e45f5b",
   "metadata": {},
   "outputs": [],
   "source": [
    "egdf = geo.GeoDataFrame(edf[['JudgementTotal','GEOID','geometry']])"
   ]
  },
  {
   "cell_type": "code",
   "execution_count": null,
   "id": "77b289ba-55e7-4e0e-9c5c-b0e0be5e81c0",
   "metadata": {},
   "outputs": [],
   "source": [
    "gdf_wm = gdf.to_crs(epsg=3857)\n",
    "geo_pts_wm = geo_pts.to_crs(epsg=3857)\n",
    "geo_pts_wm_payday = geo_pts_payday.to_crs(epsg=3857)\n",
    "\n",
    "\n",
    "base = gdf_wm.replace({0:np.nan}).plot(interest,  \n",
    "                #scheme='natural_breaks', \n",
    "                scheme='quantiles',\n",
    "                #k=4,\n",
    "                edgecolor='k',\n",
    "                cmap='nipy_spectral', legend=True,\n",
    "                  figsize=(20,20), alpha=0.5)\n",
    "cx.add_basemap(base,source=cx.providers.OpenStreetMap.Mapnik, zoom=14)\n",
    "cx.add_basemap(base,source=cx.providers.OpenStreetMap.Mapnik, zoom=12)\n",
    "geo_pts_wm.plot(ax=base, marker='.', color='purple', markersize=10)\n",
    "geo_pts_wm_payday.plot(ax=base, marker='*', color='palegreen', markersize=600, alpha=1)\n",
    "\n",
    "leg = base.get_legend()\n",
    "leg.set_bbox_to_anchor((1.2, 1.0, 0.0, 0.0))\n",
    "base.set_axis_off()\n",
    "\n",
    "base.set_title('Total Black with Lenders and Evictions', fontsize=24)\n",
    "base.figure.savefig(\"../results/totalblack.png\", dpi=200, bbox_inches=\"tight\")"
   ]
  },
  {
   "cell_type": "code",
   "execution_count": null,
   "id": "fb219119-ecdc-40bd-97d3-c01b834c1924",
   "metadata": {},
   "outputs": [],
   "source": []
  }
 ],
 "metadata": {
  "kernelspec": {
   "display_name": "Python 3 (ipykernel)",
   "language": "python",
   "name": "python3"
  },
  "language_info": {
   "codemirror_mode": {
    "name": "ipython",
    "version": 3
   },
   "file_extension": ".py",
   "mimetype": "text/x-python",
   "name": "python",
   "nbconvert_exporter": "python",
   "pygments_lexer": "ipython3",
   "version": "3.11.5"
  }
 },
 "nbformat": 4,
 "nbformat_minor": 5
}
