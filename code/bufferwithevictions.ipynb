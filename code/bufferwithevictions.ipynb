{
 "cells": [
  {
   "cell_type": "code",
   "execution_count": null,
   "id": "553bb289-42a8-4fde-8a44-75151cf6f4a5",
   "metadata": {},
   "outputs": [],
   "source": [
    "import geopandas as geo\n",
    "import pandas as pd\n",
    "%config InlineBackend.figure_format ='retina'\n",
    "from re import sub\n",
    "from decimal import Decimal\n",
    "import matplotlib as plt\n",
    "from shapely.geometry import Point, Polygon\n",
    "import contextily as cx\n",
    "import numpy as np"
   ]
  },
  {
   "cell_type": "code",
   "execution_count": null,
   "id": "c62751af-8e5c-4732-98b7-d1dfb3ef70b6",
   "metadata": {},
   "outputs": [],
   "source": [
    "data=pd.read_csv('~/TX_appleseed_lenders_public/data/cleanedpayday(1).csv')\n",
    "data2=pd.read_csv(\"~/TX_appleseed_lenders_public/data/evictions_historic_merged.csv\")"
   ]
  },
  {
   "cell_type": "code",
   "execution_count": null,
   "id": "1c3fff64-25ef-4aca-92e7-fe9f9eb1bc4b",
   "metadata": {},
   "outputs": [],
   "source": [
    "data2['GEOID_2020'] = data2['GEOID_2020'].astype('str')\n",
    "data2['JudgementTotal']=data2['judgment_amt']\n"
   ]
  },
  {
   "cell_type": "code",
   "execution_count": null,
   "id": "f5c3508d-698d-4728-ba5e-980b7c3dc77f",
   "metadata": {},
   "outputs": [],
   "source": [
    "geometry = [Point(xy) for xy in zip(data['Long'],data['Lat'])]\n",
    "\n",
    "geo_pts_payday = geo.GeoDataFrame(data,geometry=geometry,crs=\"EPSG:4326\")"
   ]
  },
  {
   "cell_type": "code",
   "execution_count": null,
   "id": "7c1bbc41-b2f2-4b64-b514-a4834751c052",
   "metadata": {},
   "outputs": [],
   "source": [
    "pts = data2[['case_number','lon','lat','JudgementTotal']].copy()"
   ]
  },
  {
   "cell_type": "code",
   "execution_count": null,
   "id": "220857ad-67a8-4996-ac67-e4d7928f973b",
   "metadata": {},
   "outputs": [],
   "source": [
    "pts['Size']=pts['JudgementTotal'].apply(lambda x: np.sqrt(x))"
   ]
  },
  {
   "cell_type": "code",
   "execution_count": null,
   "id": "75739a4b-fb19-465c-a92d-02595f0526c1",
   "metadata": {},
   "outputs": [],
   "source": [
    "money_df = data2.groupby(by=\"GEOID_2020\").sum()[['JudgementTotal']].reset_index()"
   ]
  },
  {
   "cell_type": "code",
   "execution_count": null,
   "id": "ee5eaefd-0286-43aa-b173-f8a0e4f6ea4d",
   "metadata": {},
   "outputs": [],
   "source": [
    "geometry = [Point(xy) for xy in zip(pts['lon'],pts['lat'])]\n",
    "\n",
    "geo_pts = geo.GeoDataFrame(pts,geometry=geometry,crs=\"EPSG:4326\")"
   ]
  },
  {
   "cell_type": "code",
   "execution_count": null,
   "id": "da7463cc-e431-40e3-b7e5-b5d506e9efcc",
   "metadata": {},
   "outputs": [],
   "source": [
    "gdf = geo.read_file('~/TX_appleseed_lenders_public/shapefiles/PVS_21_v2_bg_481131.shp')\n",
    "gdf['GEOID']=gdf['BLKGRPID'].apply(lambda x: x[:-1])"
   ]
  },
  {
   "cell_type": "code",
   "execution_count": null,
   "id": "d16c617a-245f-4a22-a0b9-4b96f2dfeb72",
   "metadata": {},
   "outputs": [],
   "source": [
    "df = pd.merge(money_df,gdf, left_on='GEOID_2020', right_on='GEOID', how='right')\n",
    "gdf = geo.GeoDataFrame(df[['JudgementTotal','GEOID','geometry']])"
   ]
  },
  {
   "cell_type": "code",
   "execution_count": null,
   "id": "1db0071a-5bed-4fbe-9269-3e5068c27096",
   "metadata": {},
   "outputs": [],
   "source": [
    "geo_pts_wm_payday = geo_pts_payday.to_crs(epsg=3857)\n",
    "geo_pts_wm = geo_pts.to_crs(epsg=3857)\n",
    "buffer = geo_pts_wm_payday.buffer(1500)\n",
    "ax = geo_pts_wm_payday.plot(marker='*', color='blue', markersize=200, alpha=1,legend=True, figsize=(15,15))\n",
    "buffer.plot(ax=ax,color='red',alpha=.25)\n",
    "geo_pts_wm.plot(ax=ax, marker='.', color='purple', markersize=10)\n",
    "\n",
    "cx.add_basemap(ax,source=cx.providers.OpenStreetMap.Mapnik, zoom=14)\n",
    "cx.add_basemap(ax,source=cx.providers.OpenStreetMap.Mapnik, zoom=12)\n",
    "\n",
    "ax.set_title('Evictions and Payday Lenders with 1 mile buffer', fontsize=24)\n",
    "ax.figure.savefig(\"../results/bufferedlenderswevictions.png\", dpi=200, bbox_inches=\"tight\")"
   ]
  },
  {
   "cell_type": "code",
   "execution_count": null,
   "id": "55a363c4-571e-41c9-a6f5-edb26c8e114b",
   "metadata": {},
   "outputs": [],
   "source": []
  }
 ],
 "metadata": {
  "kernelspec": {
   "display_name": "Python 3 (ipykernel)",
   "language": "python",
   "name": "python3"
  },
  "language_info": {
   "codemirror_mode": {
    "name": "ipython",
    "version": 3
   },
   "file_extension": ".py",
   "mimetype": "text/x-python",
   "name": "python",
   "nbconvert_exporter": "python",
   "pygments_lexer": "ipython3",
   "version": "3.11.5"
  }
 },
 "nbformat": 4,
 "nbformat_minor": 5
}
