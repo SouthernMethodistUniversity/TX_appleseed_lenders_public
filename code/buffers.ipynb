{
 "cells": [
  {
   "cell_type": "code",
   "execution_count": null,
   "id": "f55fd082-5a9f-4dd1-98b4-3d56682f5b09",
   "metadata": {
    "tags": []
   },
   "outputs": [],
   "source": [
    "import geopandas as geo\n",
    "import pandas as pd\n",
    "%config InlineBackend.figure_format ='retina'"
   ]
  },
  {
   "cell_type": "code",
   "execution_count": null,
   "id": "e33fbdeb-95f4-42a0-a970-6879a120a01e",
   "metadata": {},
   "outputs": [],
   "source": [
    "from re import sub\n",
    "from decimal import Decimal\n",
    "import matplotlib.pyplot as plt"
   ]
  },
  {
   "cell_type": "code",
   "execution_count": null,
   "id": "131a0b37-3eb0-473c-92e7-f237031ff075",
   "metadata": {},
   "outputs": [],
   "source": [
    "from shapely.geometry import Point, Polygon"
   ]
  },
  {
   "cell_type": "code",
   "execution_count": null,
   "id": "cdfb7f72-a91c-4988-a7f9-5e473f64d14b",
   "metadata": {},
   "outputs": [],
   "source": [
    "import contextily as cx\n",
    "import numpy as np"
   ]
  },
  {
   "cell_type": "code",
   "execution_count": null,
   "id": "c8d6ac1b-602f-4886-83a5-567b42f76cbb",
   "metadata": {},
   "outputs": [],
   "source": [
    "data=pd.read_csv('~/TX_appleseed_lenders_public/data/cleanedpayday(1).csv')"
   ]
  },
  {
   "cell_type": "code",
   "execution_count": null,
   "id": "931d0427-5708-4bb3-ab6e-e266e347669d",
   "metadata": {},
   "outputs": [],
   "source": [
    "geometry = [Point(xy) for xy in zip(data['Long'],data['Lat'])]\n",
    "\n",
    "geo_pts_payday = geo.GeoDataFrame(data,geometry=geometry,crs=\"EPSG:4326\")"
   ]
  },
  {
   "cell_type": "code",
   "execution_count": null,
   "id": "f81be1ba-c8f8-4343-860d-a51ae97840ec",
   "metadata": {},
   "outputs": [],
   "source": [
    "geometry = [Point(xy) for xy in zip(data['Long'],data['Lat'])]\n",
    "\n",
    "geo_pts_payday = geo.GeoDataFrame(data,geometry=geometry,crs=\"EPSG:4326\")"
   ]
  },
  {
   "cell_type": "code",
   "execution_count": null,
   "id": "1084c423-de3c-45dd-9399-bb951c066331",
   "metadata": {},
   "outputs": [],
   "source": [
    "geo_pts_wm_payday = geo_pts_payday.to_crs(epsg=3857)\n",
    "buffer = geo_pts_wm_payday.buffer(1500)\n",
    "ax = geo_pts_wm_payday.plot(marker='*', color='blue', markersize=200, alpha=1,legend=True, figsize=(15,15))\n",
    "buffer.plot(ax=ax,color='red',alpha=.25)\n",
    "\n",
    "cx.add_basemap(ax,source=cx.providers.OpenStreetMap.Mapnik, zoom=14)\n",
    "cx.add_basemap(ax,source=cx.providers.OpenStreetMap.Mapnik, zoom=12)\n",
    "\n",
    "ax.set_title('Payday Lenders with 1 mile buffer', fontsize=24)\n",
    "plt.savefig('../results/lendersbuffer.png', dpi=1200)"
   ]
  },
  {
   "cell_type": "code",
   "execution_count": null,
   "id": "c0bff5a2-f4f2-420c-870f-894c4866da95",
   "metadata": {},
   "outputs": [],
   "source": []
  }
 ],
 "metadata": {
  "kernelspec": {
   "display_name": "Python 3 (ipykernel)",
   "language": "python",
   "name": "python3"
  },
  "language_info": {
   "codemirror_mode": {
    "name": "ipython",
    "version": 3
   },
   "file_extension": ".py",
   "mimetype": "text/x-python",
   "name": "python",
   "nbconvert_exporter": "python",
   "pygments_lexer": "ipython3",
   "version": "3.11.5"
  }
 },
 "nbformat": 4,
 "nbformat_minor": 5
}
