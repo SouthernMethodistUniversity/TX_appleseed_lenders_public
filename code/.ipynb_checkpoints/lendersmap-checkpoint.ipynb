{
 "cells": [
  {
   "cell_type": "code",
   "execution_count": null,
   "id": "682cc3d0-5509-4e0d-83a7-85147d95318b",
   "metadata": {},
   "outputs": [],
   "source": [
    "import geopandas as geo\n",
    "import pandas as pd\n",
    "%config InlineBackend.figure_format ='retina'"
   ]
  },
  {
   "cell_type": "code",
   "execution_count": null,
   "id": "ee4c52dd-98fd-47c1-9796-f7f3c270b4f5",
   "metadata": {},
   "outputs": [],
   "source": [
    "from re import sub\n",
    "from decimal import Decimal\n",
    "import matplotlib as plt"
   ]
  },
  {
   "cell_type": "code",
   "execution_count": null,
   "id": "25a42d1b-c804-436b-8d81-7bd93ac2beb9",
   "metadata": {},
   "outputs": [],
   "source": [
    "from shapely.geometry import Point, Polygon"
   ]
  },
  {
   "cell_type": "code",
   "execution_count": null,
   "id": "2fb96dc1-83c1-48d9-bb98-3a03c8fe5681",
   "metadata": {},
   "outputs": [],
   "source": [
    "import contextily as cx\n",
    "import numpy as np"
   ]
  },
  {
   "cell_type": "code",
   "execution_count": null,
   "id": "0f9007fd-16d6-4172-9152-2041427a1705",
   "metadata": {},
   "outputs": [],
   "source": [
    "data=pd.read_csv('~/TX_appleseed_lenders_public/data/cleanedpayday(1).csv')"
   ]
  },
  {
   "cell_type": "code",
   "execution_count": null,
   "id": "7597d980-0730-41ca-b394-ea4bb60e02a4",
   "metadata": {},
   "outputs": [],
   "source": [
    "graph = data[['Lat','Long']]"
   ]
  },
  {
   "cell_type": "code",
   "execution_count": null,
   "id": "0e309326-46bf-4cec-8bc3-8c4579ff77a8",
   "metadata": {},
   "outputs": [],
   "source": [
    "geometry = [Point(xy) for xy in zip(data['Long'],data['Lat'])]\n",
    "\n",
    "geo_pts_payday = geo.GeoDataFrame(graph,geometry=geometry,crs=\"EPSG:4326\")"
   ]
  },
  {
   "cell_type": "code",
   "execution_count": null,
   "id": "f64d17ba-d47c-412c-8a9d-5369d055f95c",
   "metadata": {},
   "outputs": [],
   "source": [
    "gdf = geo.read_file('~/TX_appleseed_lenders_public/shapefiles/PVS_21_v2_bg_481131.shp')"
   ]
  },
  {
   "cell_type": "code",
   "execution_count": null,
   "id": "06cd4a43-1b2e-43cb-a88b-48cac14a766e",
   "metadata": {},
   "outputs": [],
   "source": [
    "gdf['JudgementTotal']=0"
   ]
  },
  {
   "cell_type": "code",
   "execution_count": null,
   "id": "c4198bcd-77fc-46bd-b93a-6408c3dd2d74",
   "metadata": {},
   "outputs": [],
   "source": [
    "gdf = geo.GeoDataFrame(gdf)"
   ]
  },
  {
   "cell_type": "code",
   "execution_count": null,
   "id": "80bb8a7f-7188-4de7-92ee-d953a44906f3",
   "metadata": {},
   "outputs": [],
   "source": [
    "geo_pts_payday.plot(marker='*', color='purple', markersize=10)"
   ]
  },
  {
   "cell_type": "code",
   "execution_count": null,
   "id": "64b5e541-e167-4143-8e8a-2fbaecb1d333",
   "metadata": {},
   "outputs": [],
   "source": [
    "data=pd.read_csv(\"~/TX_appleseed_lenders_public/data/evictions_historic_merged.csv\")"
   ]
  },
  {
   "cell_type": "code",
   "execution_count": null,
   "id": "0276429e-84fe-405e-8835-8fec77cd7030",
   "metadata": {},
   "outputs": [],
   "source": [
    "data['GEOID_2020'] = data['GEOID_2020'].astype('str')"
   ]
  },
  {
   "cell_type": "code",
   "execution_count": null,
   "id": "d8488ec4-e7e6-46e2-a820-e44b42026758",
   "metadata": {},
   "outputs": [],
   "source": [
    "data['JudgementTotal']=data['judgment_amt']#.apply(lambda x: float(Decimal(sub(r'[^\\d.]', '', x))))"
   ]
  },
  {
   "cell_type": "code",
   "execution_count": null,
   "id": "4ec9c26b-5482-4f79-b1c7-5a1ec89727d7",
   "metadata": {},
   "outputs": [],
   "source": [
    "data['JudgementTotal'].sum()"
   ]
  },
  {
   "cell_type": "code",
   "execution_count": null,
   "id": "49d6f8eb-65d1-4aaf-89df-baf89d0499c8",
   "metadata": {},
   "outputs": [],
   "source": [
    "money_df = data.groupby(by=\"GEOID_2020\").sum()[['JudgementTotal']].reset_index()"
   ]
  },
  {
   "cell_type": "code",
   "execution_count": null,
   "id": "916be264-ee99-4fb6-9537-5b69b1426b41",
   "metadata": {},
   "outputs": [],
   "source": [
    "pts = data[['case_number','lon','lat','JudgementTotal']].copy()"
   ]
  },
  {
   "cell_type": "code",
   "execution_count": null,
   "id": "63fda42a-dcca-409f-91f4-392f0926bd8d",
   "metadata": {},
   "outputs": [],
   "source": [
    "pts['Size']=pts['JudgementTotal'].apply(lambda x: np.sqrt(x))"
   ]
  },
  {
   "cell_type": "code",
   "execution_count": null,
   "id": "5f4a31d9-3957-40aa-8fcf-28bafbfcb3ad",
   "metadata": {},
   "outputs": [],
   "source": [
    "geometry = [Point(xy) for xy in zip(pts['lon'],pts['lat'])]\n",
    "\n",
    "geo_pts = geo.GeoDataFrame(pts,geometry=geometry,crs=\"EPSG:4326\")"
   ]
  },
  {
   "cell_type": "code",
   "execution_count": null,
   "id": "cc21f900-7fce-4019-8370-ebb03ace9a67",
   "metadata": {},
   "outputs": [],
   "source": [
    "gdf = geo.read_file('~/TX_appleseed_lenders_public/shapefiles/PVS_21_v2_bg_481131.shp')\n"
   ]
  },
  {
   "cell_type": "code",
   "execution_count": null,
   "id": "908e2228-2512-4bec-9ee9-adccd8ce314f",
   "metadata": {},
   "outputs": [],
   "source": [
    "gdf['GEOID']=gdf['BLKGRPID'].apply(lambda x: x[:-1])"
   ]
  },
  {
   "cell_type": "code",
   "execution_count": null,
   "id": "68fd6613-3542-4447-a3f3-c25b3e4b7385",
   "metadata": {},
   "outputs": [],
   "source": [
    "df = pd.merge(money_df,gdf, left_on='GEOID_2020', right_on='GEOID', how='right')"
   ]
  },
  {
   "cell_type": "code",
   "execution_count": null,
   "id": "4f38f357-9fe5-4bf9-9981-2cf43eaf6e72",
   "metadata": {},
   "outputs": [],
   "source": [
    "gdf = geo.GeoDataFrame(df[['JudgementTotal','GEOID','geometry']])"
   ]
  },
  {
   "cell_type": "code",
   "execution_count": null,
   "id": "57b38b8a-fed5-43cb-bccb-44a9ecefab94",
   "metadata": {},
   "outputs": [],
   "source": [
    "base = gdf.plot(\"JudgementTotal\", missing_kwds={'color': 'red'}, scheme='natural_breaks', k=12, cmap='OrRd', legend=False)\n",
    "geo_pts.plot(ax=base, marker='*', color='purple', markersize=10)"
   ]
  },
  {
   "cell_type": "code",
   "execution_count": null,
   "id": "6ec2a0df-75e5-47c0-91e0-2ab9e5f70056",
   "metadata": {},
   "outputs": [],
   "source": []
  }
 ],
 "metadata": {
  "kernelspec": {
   "display_name": "Python 3 (ipykernel)",
   "language": "python",
   "name": "python3"
  },
  "language_info": {
   "codemirror_mode": {
    "name": "ipython",
    "version": 3
   },
   "file_extension": ".py",
   "mimetype": "text/x-python",
   "name": "python",
   "nbconvert_exporter": "python",
   "pygments_lexer": "ipython3",
   "version": "3.11.5"
  }
 },
 "nbformat": 4,
 "nbformat_minor": 5
}
