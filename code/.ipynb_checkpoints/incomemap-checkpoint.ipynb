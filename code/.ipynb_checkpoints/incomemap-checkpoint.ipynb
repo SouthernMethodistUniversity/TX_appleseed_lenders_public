{
 "cells": [
  {
   "cell_type": "code",
   "execution_count": null,
   "id": "45f1c986-f712-4937-9529-bcfd1b74d8ec",
   "metadata": {},
   "outputs": [],
   "source": [
    "import geopandas as geo\n",
    "import pandas as pd\n",
    "%config InlineBackend.figure_format ='retina'"
   ]
  },
  {
   "cell_type": "code",
   "execution_count": null,
   "id": "ae92ddd1-1af5-4bcf-b34b-c4a813b31d3b",
   "metadata": {},
   "outputs": [],
   "source": [
    "from re import sub\n",
    "from decimal import Decimal\n",
    "import matplotlib as plt"
   ]
  },
  {
   "cell_type": "code",
   "execution_count": null,
   "id": "2681adb5-8740-44af-b867-445efdaaaeec",
   "metadata": {},
   "outputs": [],
   "source": [
    "from shapely.geometry import Point, Polygon"
   ]
  },
  {
   "cell_type": "code",
   "execution_count": null,
   "id": "767a70cc-00da-4afb-8f08-990a0dd9a35a",
   "metadata": {},
   "outputs": [],
   "source": [
    "import contextily as cx\n",
    "import numpy as np"
   ]
  },
  {
   "cell_type": "code",
   "execution_count": null,
   "id": "17b1284b-4e2b-413f-a770-4b86af378645",
   "metadata": {},
   "outputs": [],
   "source": [
    "data=pd.read_csv('~/TX_appleseed_lenders_public/data/incomedata_clean.csv')"
   ]
  },
  {
   "cell_type": "code",
   "execution_count": null,
   "id": "e43a4636-778b-45e0-b490-365942ffa2f0",
   "metadata": {},
   "outputs": [],
   "source": [
    "data['Tract'] = data['Tract'].astype('str')"
   ]
  },
  {
   "cell_type": "code",
   "execution_count": null,
   "id": "91d31106-bf99-467a-823a-f8f8ce5dcd3b",
   "metadata": {},
   "outputs": [],
   "source": [
    "data[\"TractID\"]= data['Tract'].apply(lambda x:str(int(round(float(x.split(',')[0].split(\"Tract \")[-1])*100))).zfill(6))"
   ]
  },
  {
   "cell_type": "code",
   "execution_count": null,
   "id": "8bcfb510-7126-4820-97eb-bfac37659c26",
   "metadata": {},
   "outputs": [],
   "source": [
    "graph = data[['TractID','Total Median Income']]"
   ]
  },
  {
   "cell_type": "code",
   "execution_count": null,
   "id": "d9b87682-8e49-40ec-bb3a-569d2ade1fd5",
   "metadata": {},
   "outputs": [],
   "source": [
    "gdf = geo.read_file('~/TX_appleseed_lenders_public/shapefiles/PVS_21_v2_bg_481131.shp')"
   ]
  },
  {
   "cell_type": "code",
   "execution_count": null,
   "id": "6d70498d-5262-4dec-a3d2-2d1782c65add",
   "metadata": {},
   "outputs": [],
   "source": [
    "gdf = geo.GeoDataFrame(gdf)"
   ]
  },
  {
   "cell_type": "code",
   "execution_count": null,
   "id": "9efc902f-7082-4d22-aab3-1425b756bfc4",
   "metadata": {},
   "outputs": [],
   "source": [
    "gdf2 = gdf.dissolve(by='TRACTCE')"
   ]
  },
  {
   "cell_type": "code",
   "execution_count": null,
   "id": "43952439-fbcc-4c7d-843a-3487006f16b8",
   "metadata": {},
   "outputs": [],
   "source": [
    "data = pd.merge(graph,gdf,left_on=\"TractID\", right_on=\"TRACTCE\",how='inner')\n",
    "data2 = geo.GeoDataFrame(pd.merge(graph,gdf2,left_on=\"TractID\", right_on=\"TRACTCE\",how='inner'))\n"
   ]
  },
  {
   "cell_type": "code",
   "execution_count": null,
   "id": "87054d1e-e3c6-4c4b-bfb2-d5d69ab40fc0",
   "metadata": {},
   "outputs": [],
   "source": [
    "gdf = geo.GeoDataFrame(data)"
   ]
  },
  {
   "cell_type": "code",
   "execution_count": null,
   "id": "355b44d2-3448-4890-9983-0e4fe0e78927",
   "metadata": {},
   "outputs": [],
   "source": [
    "pdata=pd.read_csv('~/TX_appleseed_lenders_public/data/cleanedpayday(1).csv')\n",
    "pgraph = pdata[['Lat','Long']]\n",
    "pgraph = pdata[['Lat','Long']]\n",
    "pgeometry = [Point(xy) for xy in zip(pdata['Long'],pdata['Lat'])]\n",
    "geo_pts_payday = geo.GeoDataFrame(pgraph,geometry=pgeometry,crs=\"EPSG:4326\")"
   ]
  },
  {
   "cell_type": "code",
   "execution_count": null,
   "id": "1ed4fa10-957f-4e5d-b4a7-70962d0d02ea",
   "metadata": {},
   "outputs": [],
   "source": [
    "edata=pd.read_csv(\"~/TX_appleseed_lenders_public/data/evictions_historic_merged.csv\")\n",
    "edata['GEOID_2020'] = edata['GEOID_2020'].astype('str')\n",
    "edata['JudgementTotal']=edata['judgment_amt']\n",
    "money_df = edata.groupby(by=\"GEOID_2020\").sum()[['JudgementTotal']].reset_index()\n",
    "pts = edata[['case_number','lon','lat','JudgementTotal']].copy()\n",
    "pts['Size']=pts['JudgementTotal'].apply(lambda x: np.sqrt(x))\n",
    "geometry = [Point(xy) for xy in zip(pts['lon'],pts['lat'])]\n",
    "\n",
    "geo_pts = geo.GeoDataFrame(pts,geometry=geometry,crs=\"EPSG:4326\")"
   ]
  },
  {
   "cell_type": "code",
   "execution_count": null,
   "id": "1362d160-0ce2-4b49-bf7a-878537982f7d",
   "metadata": {},
   "outputs": [],
   "source": [
    "gdf_wm = gdf.to_crs(epsg=3857)\n",
    "geo_pts_wm_payday = geo_pts_payday.to_crs(epsg=3857)\n",
    "geo_pts_wm = geo_pts.to_crs(epsg=3857)\n",
    "buffer = geo_pts_wm_payday.buffer(1000) #1km buffer\n",
    "\n",
    "base = gdf_wm.replace({0:np.nan}).plot(\"Total Median Income\", \n",
    "                missing_kwds={ \"color\": \"lightgrey\",\n",
    "         \"edgecolor\": \"grey\",\n",
    "         \"hatch\": \"///\"}, \n",
    "                scheme='quantiles', \n",
    "                k=5, edgecolor='k',\n",
    "                cmap='nipy_spectral', legend=True,\n",
    "                  figsize=(15,15), alpha=0.25)\n",
    "cx.add_basemap(base,source=cx.providers.OpenStreetMap.Mapnik, zoom=14)\n",
    "cx.add_basemap(base,source=cx.providers.OpenStreetMap.Mapnik, zoom=12)\n",
    "buffer.plot(ax=base,color='red',alpha=.25)\n",
    "geo_pts_wm.plot(ax=base, marker='.', color='purple', markersize=20)\n",
    "geo_pts_wm_payday.plot(ax=base, marker='*', color='cyan', markersize=100, alpha=1)\n",
    "\n",
    "leg = base.get_legend()\n",
    "leg.set_bbox_to_anchor((1.2, 1.0, 0.0, 0.0))\n",
    "base.set_axis_off()\n",
    "base.set_title('Income Map with Evictions, Lenders, and Buffers', fontsize=24)\n",
    "\n",
    "base.figure.savefig(\"../results/fullmap.jpg\", dpi=200, bbox_inches=\"tight\")"
   ]
  },
  {
   "cell_type": "code",
   "execution_count": null,
   "id": "ad32f79a-dcff-4975-93c4-5c836c6a4208",
   "metadata": {},
   "outputs": [],
   "source": []
  }
 ],
 "metadata": {
  "kernelspec": {
   "display_name": "Python 3 (ipykernel)",
   "language": "python",
   "name": "python3"
  },
  "language_info": {
   "codemirror_mode": {
    "name": "ipython",
    "version": 3
   },
   "file_extension": ".py",
   "mimetype": "text/x-python",
   "name": "python",
   "nbconvert_exporter": "python",
   "pygments_lexer": "ipython3",
   "version": "3.11.5"
  }
 },
 "nbformat": 4,
 "nbformat_minor": 5
}
