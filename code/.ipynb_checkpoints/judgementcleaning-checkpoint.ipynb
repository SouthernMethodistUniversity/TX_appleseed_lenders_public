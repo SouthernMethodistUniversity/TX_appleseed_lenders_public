{
 "cells": [
  {
   "cell_type": "code",
   "execution_count": 1,
   "id": "af44fb84-bc6b-4b73-8a26-fd023f004501",
   "metadata": {},
   "outputs": [
    {
     "name": "stdout",
     "output_type": "stream",
     "text": [
      "Requirement already satisfied: openpyxl in /lustre/work/client/users/akage/.conda/envs/datascience/lib/python3.11/site-packages (3.1.2)\n",
      "Requirement already satisfied: et-xmlfile in /lustre/work/client/users/akage/.conda/envs/datascience/lib/python3.11/site-packages (from openpyxl) (1.1.0)\n",
      "Note: you may need to restart the kernel to use updated packages.\n"
     ]
    }
   ],
   "source": [
    "import pandas as pd\n",
    "%pip install openpyxl"
   ]
  },
  {
   "cell_type": "code",
   "execution_count": 3,
   "id": "bf76f65d-7d2a-4e33-9d2e-67405154d1cc",
   "metadata": {},
   "outputs": [],
   "source": [
    "judge = pd.read_excel(\"~/TX_appleseed_lenders_public/data/DallasCounty_EvictionJudgements(1).xlsx\", engine='openpyxl')"
   ]
  },
  {
   "cell_type": "code",
   "execution_count": 4,
   "id": "60461fac-f7d8-49a4-ab1b-8ac0f45ddf45",
   "metadata": {},
   "outputs": [
    {
     "data": {
      "text/plain": [
       "0       [021822, PER, JUDGE, CASE, RESET, BRING, PROOF...\n",
       "1       [003112, JUDGMENT, BY, DEFAULT/DEF, NO, SHOW/D...\n",
       "2       [021722, RECVD, EMAIL, DEFT, ANSWER/LR, , , , ...\n",
       "3       [022522, REST, TRIAL, DUE, TO, INCLEMENT, WEAT...\n",
       "4       [022522, REST, TRIAL, DUE, TO, INCLEMENT, WEAT...\n",
       "                              ...                        \n",
       "9026       [061722, RULED, IN, FAVOR, OF, PALINTIFF...YG]\n",
       "9027               [061722, JUDGMENT, FOR, DEFENDANT..YG]\n",
       "9028                  [061722, JUDGMENT, BY, DEFAULT..YG]\n",
       "9029    [061722, DIMISS, FOR, WANT, OF, PROSECUTION...YG]\n",
       "9030    [060922, PL, BRGT, IN, REQ, FOR, DISMISSAL/JUD...\n",
       "Name: comments, Length: 9031, dtype: object"
      ]
     },
     "execution_count": 4,
     "metadata": {},
     "output_type": "execute_result"
    }
   ],
   "source": [
    "judge['comments'].str.split(' ')"
   ]
  },
  {
   "cell_type": "code",
   "execution_count": 5,
   "id": "ea6732dd-e136-4cb8-adb3-a4940797e215",
   "metadata": {},
   "outputs": [
    {
     "data": {
      "text/plain": [
       "array([1735.  , 7727.79, 6894.  , ..., 3407.5 , 5152.  ,    0.  ])"
      ]
     },
     "execution_count": 5,
     "metadata": {},
     "output_type": "execute_result"
    }
   ],
   "source": [
    "judge['judgment_amt'].values"
   ]
  },
  {
   "cell_type": "code",
   "execution_count": 6,
   "id": "b3302814-888d-4d5c-bda0-01ef6bcc1621",
   "metadata": {},
   "outputs": [
    {
     "data": {
      "text/plain": [
       "9031"
      ]
     },
     "execution_count": 6,
     "metadata": {},
     "output_type": "execute_result"
    }
   ],
   "source": [
    "len(judge[(judge['judgment_amt']!='     0.00')])"
   ]
  },
  {
   "cell_type": "code",
   "execution_count": 7,
   "id": "967e7c3b-7eaf-4f79-a95c-2e9d132efbbf",
   "metadata": {},
   "outputs": [
    {
     "data": {
      "text/html": [
       "<div>\n",
       "<style scoped>\n",
       "    .dataframe tbody tr th:only-of-type {\n",
       "        vertical-align: middle;\n",
       "    }\n",
       "\n",
       "    .dataframe tbody tr th {\n",
       "        vertical-align: top;\n",
       "    }\n",
       "\n",
       "    .dataframe thead th {\n",
       "        text-align: right;\n",
       "    }\n",
       "</style>\n",
       "<table border=\"1\" class=\"dataframe\">\n",
       "  <thead>\n",
       "    <tr style=\"text-align: right;\">\n",
       "      <th></th>\n",
       "      <th>court_id</th>\n",
       "      <th>case_number</th>\n",
       "      <th>file_date</th>\n",
       "      <th>judgment_date</th>\n",
       "      <th>judgment_signed</th>\n",
       "      <th>judgment_amt</th>\n",
       "      <th>writ_issued</th>\n",
       "      <th>writ_agency</th>\n",
       "      <th>writ_returned</th>\n",
       "      <th>writ_how_returned</th>\n",
       "      <th>appeal_filed</th>\n",
       "      <th>rent_on_appeal_paid</th>\n",
       "      <th>total_paid</th>\n",
       "      <th>comments</th>\n",
       "    </tr>\n",
       "  </thead>\n",
       "  <tbody>\n",
       "    <tr>\n",
       "      <th>980</th>\n",
       "      <td>11</td>\n",
       "      <td>2201281H</td>\n",
       "      <td>2022-03-02 00:00:00</td>\n",
       "      <td>2022-03-22</td>\n",
       "      <td>2022-03-22 00:00:00</td>\n",
       "      <td>0.0</td>\n",
       "      <td>NaT</td>\n",
       "      <td>NaN</td>\n",
       "      <td>NaN</td>\n",
       "      <td>NaN</td>\n",
       "      <td>NaT</td>\n",
       "      <td>NaT</td>\n",
       "      <td>214.0</td>\n",
       "      <td>031422 RESET TRIAL FOR SIGN LANGUAGE INTERPRET...</td>\n",
       "    </tr>\n",
       "    <tr>\n",
       "      <th>6049</th>\n",
       "      <td>12</td>\n",
       "      <td>2200711K</td>\n",
       "      <td>2022-04-28 00:00:00</td>\n",
       "      <td>2022-05-09</td>\n",
       "      <td>2022-05-09 00:00:00</td>\n",
       "      <td>0.0</td>\n",
       "      <td>NaT</td>\n",
       "      <td>NaN</td>\n",
       "      <td>NaN</td>\n",
       "      <td>NaN</td>\n",
       "      <td>NaT</td>\n",
       "      <td>NaT</td>\n",
       "      <td>134.0</td>\n",
       "      <td>05.09.22  JUDGMENT FOR THE PLAINTIFF FOR POSSE...</td>\n",
       "    </tr>\n",
       "    <tr>\n",
       "      <th>6985</th>\n",
       "      <td>52</td>\n",
       "      <td>2250452P</td>\n",
       "      <td>2022-01-31 00:00:00</td>\n",
       "      <td>2022-05-20</td>\n",
       "      <td>2022-05-20 00:00:00</td>\n",
       "      <td>1644.0</td>\n",
       "      <td>NaT</td>\n",
       "      <td>NaN</td>\n",
       "      <td>NaN</td>\n",
       "      <td>NaN</td>\n",
       "      <td>NaT</td>\n",
       "      <td>NaT</td>\n",
       "      <td>134.0</td>\n",
       "      <td>Z1822 DEFT IS DEAF NEED SIGN LANGUAGE INTERPRE...</td>\n",
       "    </tr>\n",
       "    <tr>\n",
       "      <th>7301</th>\n",
       "      <td>31</td>\n",
       "      <td>2202644A</td>\n",
       "      <td>2022-05-09 00:00:00</td>\n",
       "      <td>2022-05-23</td>\n",
       "      <td>2022-05-23 00:00:00</td>\n",
       "      <td>0.0</td>\n",
       "      <td>NaT</td>\n",
       "      <td>NaN</td>\n",
       "      <td>NaN</td>\n",
       "      <td>NaN</td>\n",
       "      <td>NaT</td>\n",
       "      <td>NaT</td>\n",
       "      <td>134.0</td>\n",
       "      <td>5/9/22 MSA FILED.STATUS NOT ACTIVE.TN         ...</td>\n",
       "    </tr>\n",
       "    <tr>\n",
       "      <th>8416</th>\n",
       "      <td>52</td>\n",
       "      <td>2250218P</td>\n",
       "      <td>2022-01-20 00:00:00</td>\n",
       "      <td>2022-06-10</td>\n",
       "      <td>2022-06-10 00:00:00</td>\n",
       "      <td>3900.0</td>\n",
       "      <td>NaT</td>\n",
       "      <td>NaN</td>\n",
       "      <td>NaN</td>\n",
       "      <td>NaN</td>\n",
       "      <td>NaT</td>\n",
       "      <td>NaT</td>\n",
       "      <td>134.0</td>\n",
       "      <td>020722  RESET 2WKS ORDER SIGN LANGUAGE INTERPR...</td>\n",
       "    </tr>\n",
       "  </tbody>\n",
       "</table>\n",
       "</div>"
      ],
      "text/plain": [
       "      court_id case_number            file_date judgment_date  \\\n",
       "980         11    2201281H  2022-03-02 00:00:00    2022-03-22   \n",
       "6049        12    2200711K  2022-04-28 00:00:00    2022-05-09   \n",
       "6985        52    2250452P  2022-01-31 00:00:00    2022-05-20   \n",
       "7301        31    2202644A  2022-05-09 00:00:00    2022-05-23   \n",
       "8416        52    2250218P  2022-01-20 00:00:00    2022-06-10   \n",
       "\n",
       "          judgment_signed  judgment_amt writ_issued writ_agency  \\\n",
       "980   2022-03-22 00:00:00           0.0         NaT         NaN   \n",
       "6049  2022-05-09 00:00:00           0.0         NaT         NaN   \n",
       "6985  2022-05-20 00:00:00        1644.0         NaT         NaN   \n",
       "7301  2022-05-23 00:00:00           0.0         NaT         NaN   \n",
       "8416  2022-06-10 00:00:00        3900.0         NaT         NaN   \n",
       "\n",
       "      writ_returned writ_how_returned appeal_filed rent_on_appeal_paid  \\\n",
       "980             NaN               NaN          NaT                 NaT   \n",
       "6049            NaN               NaN          NaT                 NaT   \n",
       "6985            NaN               NaN          NaT                 NaT   \n",
       "7301            NaN               NaN          NaT                 NaT   \n",
       "8416            NaN               NaN          NaT                 NaT   \n",
       "\n",
       "      total_paid                                           comments  \n",
       "980        214.0  031422 RESET TRIAL FOR SIGN LANGUAGE INTERPRET...  \n",
       "6049       134.0  05.09.22  JUDGMENT FOR THE PLAINTIFF FOR POSSE...  \n",
       "6985       134.0  Z1822 DEFT IS DEAF NEED SIGN LANGUAGE INTERPRE...  \n",
       "7301       134.0  5/9/22 MSA FILED.STATUS NOT ACTIVE.TN         ...  \n",
       "8416       134.0  020722  RESET 2WKS ORDER SIGN LANGUAGE INTERPR...  "
      ]
     },
     "execution_count": 7,
     "metadata": {},
     "output_type": "execute_result"
    }
   ],
   "source": [
    "judge[judge['comments'].str.contains('INTERP')]"
   ]
  },
  {
   "cell_type": "code",
   "execution_count": 8,
   "id": "e56868ce-c0d8-4a85-b633-a1579f3649cd",
   "metadata": {},
   "outputs": [
    {
     "data": {
      "text/html": [
       "<div>\n",
       "<style scoped>\n",
       "    .dataframe tbody tr th:only-of-type {\n",
       "        vertical-align: middle;\n",
       "    }\n",
       "\n",
       "    .dataframe tbody tr th {\n",
       "        vertical-align: top;\n",
       "    }\n",
       "\n",
       "    .dataframe thead th {\n",
       "        text-align: right;\n",
       "    }\n",
       "</style>\n",
       "<table border=\"1\" class=\"dataframe\">\n",
       "  <thead>\n",
       "    <tr style=\"text-align: right;\">\n",
       "      <th></th>\n",
       "      <th>court_id</th>\n",
       "      <th>case_number</th>\n",
       "      <th>file_date</th>\n",
       "      <th>judgment_date</th>\n",
       "      <th>judgment_signed</th>\n",
       "      <th>judgment_amt</th>\n",
       "      <th>writ_issued</th>\n",
       "      <th>writ_agency</th>\n",
       "      <th>writ_returned</th>\n",
       "      <th>writ_how_returned</th>\n",
       "      <th>appeal_filed</th>\n",
       "      <th>rent_on_appeal_paid</th>\n",
       "      <th>total_paid</th>\n",
       "      <th>comments</th>\n",
       "    </tr>\n",
       "  </thead>\n",
       "  <tbody>\n",
       "    <tr>\n",
       "      <th>1</th>\n",
       "      <td>11</td>\n",
       "      <td>2200752H</td>\n",
       "      <td>2022-02-08 00:00:00</td>\n",
       "      <td>2022-03-11</td>\n",
       "      <td>2022-03-11 00:00:00</td>\n",
       "      <td>7727.79</td>\n",
       "      <td>NaT</td>\n",
       "      <td>NaN</td>\n",
       "      <td>NaN</td>\n",
       "      <td>NaN</td>\n",
       "      <td>NaT</td>\n",
       "      <td>NaT</td>\n",
       "      <td>134.0</td>\n",
       "      <td>003112 JUDGMENT BY DEFAULT/DEF NO SHOW/DEF HAS...</td>\n",
       "    </tr>\n",
       "    <tr>\n",
       "      <th>2</th>\n",
       "      <td>11</td>\n",
       "      <td>2200803H</td>\n",
       "      <td>2022-02-10 00:00:00</td>\n",
       "      <td>2022-03-11</td>\n",
       "      <td>2022-03-11 00:00:00</td>\n",
       "      <td>6894.00</td>\n",
       "      <td>NaT</td>\n",
       "      <td>NaN</td>\n",
       "      <td>NaN</td>\n",
       "      <td>NaN</td>\n",
       "      <td>NaT</td>\n",
       "      <td>NaT</td>\n",
       "      <td>134.0</td>\n",
       "      <td>021722 RECVD EMAIL DEFT ANSWER/LR             ...</td>\n",
       "    </tr>\n",
       "    <tr>\n",
       "      <th>3</th>\n",
       "      <td>11</td>\n",
       "      <td>2200836H</td>\n",
       "      <td>2022-02-11 00:00:00</td>\n",
       "      <td>2022-03-08</td>\n",
       "      <td>2022-03-08 00:00:00</td>\n",
       "      <td>2625.09</td>\n",
       "      <td>NaT</td>\n",
       "      <td>NaN</td>\n",
       "      <td>NaN</td>\n",
       "      <td>NaN</td>\n",
       "      <td>NaT</td>\n",
       "      <td>NaT</td>\n",
       "      <td>134.0</td>\n",
       "      <td>022522 REST TRIAL DUE TO INCLEMENT WEATHER/MLD...</td>\n",
       "    </tr>\n",
       "    <tr>\n",
       "      <th>4</th>\n",
       "      <td>11</td>\n",
       "      <td>2200837H</td>\n",
       "      <td>2022-02-11 00:00:00</td>\n",
       "      <td>2022-03-08</td>\n",
       "      <td>2022-03-08 00:00:00</td>\n",
       "      <td>3062.25</td>\n",
       "      <td>NaT</td>\n",
       "      <td>NaN</td>\n",
       "      <td>NaN</td>\n",
       "      <td>NaN</td>\n",
       "      <td>NaT</td>\n",
       "      <td>NaT</td>\n",
       "      <td>134.0</td>\n",
       "      <td>022522 REST TRIAL DUE TO INCLEMENT WEATHER/MLD...</td>\n",
       "    </tr>\n",
       "    <tr>\n",
       "      <th>6</th>\n",
       "      <td>11</td>\n",
       "      <td>2200839H</td>\n",
       "      <td>2022-02-11 00:00:00</td>\n",
       "      <td>2022-03-08</td>\n",
       "      <td>2022-03-08 00:00:00</td>\n",
       "      <td>2575.80</td>\n",
       "      <td>NaT</td>\n",
       "      <td>NaN</td>\n",
       "      <td>NaN</td>\n",
       "      <td>NaN</td>\n",
       "      <td>NaT</td>\n",
       "      <td>NaT</td>\n",
       "      <td>134.0</td>\n",
       "      <td>022522 RESET TRIAL DUE TO INCLEMENT WEATHER/ML...</td>\n",
       "    </tr>\n",
       "    <tr>\n",
       "      <th>...</th>\n",
       "      <td>...</td>\n",
       "      <td>...</td>\n",
       "      <td>...</td>\n",
       "      <td>...</td>\n",
       "      <td>...</td>\n",
       "      <td>...</td>\n",
       "      <td>...</td>\n",
       "      <td>...</td>\n",
       "      <td>...</td>\n",
       "      <td>...</td>\n",
       "      <td>...</td>\n",
       "      <td>...</td>\n",
       "      <td>...</td>\n",
       "      <td>...</td>\n",
       "    </tr>\n",
       "    <tr>\n",
       "      <th>9016</th>\n",
       "      <td>52</td>\n",
       "      <td>2251661P</td>\n",
       "      <td>2022-05-25 00:00:00</td>\n",
       "      <td>2022-06-15</td>\n",
       "      <td>2022-06-15 00:00:00</td>\n",
       "      <td>0.00</td>\n",
       "      <td>NaT</td>\n",
       "      <td>NaN</td>\n",
       "      <td>NaN</td>\n",
       "      <td>NaN</td>\n",
       "      <td>NaT</td>\n",
       "      <td>NaT</td>\n",
       "      <td>134.0</td>\n",
       "      <td>061522 JUDGMENT BY DEFAULT SNP</td>\n",
       "    </tr>\n",
       "    <tr>\n",
       "      <th>9020</th>\n",
       "      <td>52</td>\n",
       "      <td>2251665P</td>\n",
       "      <td>2022-05-25 00:00:00</td>\n",
       "      <td>2022-06-15</td>\n",
       "      <td>2022-06-15 00:00:00</td>\n",
       "      <td>1530.00</td>\n",
       "      <td>NaT</td>\n",
       "      <td>NaN</td>\n",
       "      <td>NaN</td>\n",
       "      <td>NaN</td>\n",
       "      <td>NaT</td>\n",
       "      <td>NaT</td>\n",
       "      <td>134.0</td>\n",
       "      <td>061522 JUDGMENT BY DEFAULT 1,530.00 SNP</td>\n",
       "    </tr>\n",
       "    <tr>\n",
       "      <th>9022</th>\n",
       "      <td>52</td>\n",
       "      <td>2251667P</td>\n",
       "      <td>2022-05-26 00:00:00</td>\n",
       "      <td>2022-06-17</td>\n",
       "      <td>2022-06-17 00:00:00</td>\n",
       "      <td>1025.00</td>\n",
       "      <td>NaT</td>\n",
       "      <td>NaN</td>\n",
       "      <td>NaN</td>\n",
       "      <td>NaN</td>\n",
       "      <td>NaT</td>\n",
       "      <td>NaT</td>\n",
       "      <td>214.0</td>\n",
       "      <td>061722 JUDGMENT BY DEFAULT...YG</td>\n",
       "    </tr>\n",
       "    <tr>\n",
       "      <th>9023</th>\n",
       "      <td>52</td>\n",
       "      <td>2251668P</td>\n",
       "      <td>2022-05-26 00:00:00</td>\n",
       "      <td>2022-06-17</td>\n",
       "      <td>2022-06-17 00:00:00</td>\n",
       "      <td>0.00</td>\n",
       "      <td>NaT</td>\n",
       "      <td>NaN</td>\n",
       "      <td>NaN</td>\n",
       "      <td>NaN</td>\n",
       "      <td>NaT</td>\n",
       "      <td>NaT</td>\n",
       "      <td>134.0</td>\n",
       "      <td>061722 JUDGEMENT BY DEFAULT..POSSESSION ONLY S...</td>\n",
       "    </tr>\n",
       "    <tr>\n",
       "      <th>9028</th>\n",
       "      <td>52</td>\n",
       "      <td>2251688P</td>\n",
       "      <td>2022-05-31 00:00:00</td>\n",
       "      <td>2022-06-17</td>\n",
       "      <td>2022-06-17 00:00:00</td>\n",
       "      <td>3407.50</td>\n",
       "      <td>NaT</td>\n",
       "      <td>NaN</td>\n",
       "      <td>NaN</td>\n",
       "      <td>NaN</td>\n",
       "      <td>NaT</td>\n",
       "      <td>NaT</td>\n",
       "      <td>134.0</td>\n",
       "      <td>061722 JUDGMENT BY DEFAULT..YG</td>\n",
       "    </tr>\n",
       "  </tbody>\n",
       "</table>\n",
       "<p>2951 rows × 14 columns</p>\n",
       "</div>"
      ],
      "text/plain": [
       "      court_id case_number            file_date judgment_date  \\\n",
       "1           11    2200752H  2022-02-08 00:00:00    2022-03-11   \n",
       "2           11    2200803H  2022-02-10 00:00:00    2022-03-11   \n",
       "3           11    2200836H  2022-02-11 00:00:00    2022-03-08   \n",
       "4           11    2200837H  2022-02-11 00:00:00    2022-03-08   \n",
       "6           11    2200839H  2022-02-11 00:00:00    2022-03-08   \n",
       "...        ...         ...                  ...           ...   \n",
       "9016        52    2251661P  2022-05-25 00:00:00    2022-06-15   \n",
       "9020        52    2251665P  2022-05-25 00:00:00    2022-06-15   \n",
       "9022        52    2251667P  2022-05-26 00:00:00    2022-06-17   \n",
       "9023        52    2251668P  2022-05-26 00:00:00    2022-06-17   \n",
       "9028        52    2251688P  2022-05-31 00:00:00    2022-06-17   \n",
       "\n",
       "          judgment_signed  judgment_amt writ_issued writ_agency  \\\n",
       "1     2022-03-11 00:00:00       7727.79         NaT         NaN   \n",
       "2     2022-03-11 00:00:00       6894.00         NaT         NaN   \n",
       "3     2022-03-08 00:00:00       2625.09         NaT         NaN   \n",
       "4     2022-03-08 00:00:00       3062.25         NaT         NaN   \n",
       "6     2022-03-08 00:00:00       2575.80         NaT         NaN   \n",
       "...                   ...           ...         ...         ...   \n",
       "9016  2022-06-15 00:00:00          0.00         NaT         NaN   \n",
       "9020  2022-06-15 00:00:00       1530.00         NaT         NaN   \n",
       "9022  2022-06-17 00:00:00       1025.00         NaT         NaN   \n",
       "9023  2022-06-17 00:00:00          0.00         NaT         NaN   \n",
       "9028  2022-06-17 00:00:00       3407.50         NaT         NaN   \n",
       "\n",
       "      writ_returned writ_how_returned appeal_filed rent_on_appeal_paid  \\\n",
       "1               NaN               NaN          NaT                 NaT   \n",
       "2               NaN               NaN          NaT                 NaT   \n",
       "3               NaN               NaN          NaT                 NaT   \n",
       "4               NaN               NaN          NaT                 NaT   \n",
       "6               NaN               NaN          NaT                 NaT   \n",
       "...             ...               ...          ...                 ...   \n",
       "9016            NaN               NaN          NaT                 NaT   \n",
       "9020            NaN               NaN          NaT                 NaT   \n",
       "9022            NaN               NaN          NaT                 NaT   \n",
       "9023            NaN               NaN          NaT                 NaT   \n",
       "9028            NaN               NaN          NaT                 NaT   \n",
       "\n",
       "      total_paid                                           comments  \n",
       "1          134.0  003112 JUDGMENT BY DEFAULT/DEF NO SHOW/DEF HAS...  \n",
       "2          134.0  021722 RECVD EMAIL DEFT ANSWER/LR             ...  \n",
       "3          134.0  022522 REST TRIAL DUE TO INCLEMENT WEATHER/MLD...  \n",
       "4          134.0  022522 REST TRIAL DUE TO INCLEMENT WEATHER/MLD...  \n",
       "6          134.0  022522 RESET TRIAL DUE TO INCLEMENT WEATHER/ML...  \n",
       "...          ...                                                ...  \n",
       "9016       134.0                     061522 JUDGMENT BY DEFAULT SNP  \n",
       "9020       134.0            061522 JUDGMENT BY DEFAULT 1,530.00 SNP  \n",
       "9022       214.0                    061722 JUDGMENT BY DEFAULT...YG  \n",
       "9023       134.0  061722 JUDGEMENT BY DEFAULT..POSSESSION ONLY S...  \n",
       "9028       134.0                     061722 JUDGMENT BY DEFAULT..YG  \n",
       "\n",
       "[2951 rows x 14 columns]"
      ]
     },
     "execution_count": 8,
     "metadata": {},
     "output_type": "execute_result"
    }
   ],
   "source": [
    "judge[(judge['judgment_amt']!='     0.00')&(judge['comments'].str.contains('DEFAULT'))]"
   ]
  },
  {
   "cell_type": "code",
   "execution_count": 11,
   "id": "19e299a1-7719-4a76-82e4-1e349e15fd45",
   "metadata": {},
   "outputs": [],
   "source": [
    "record = pd.read_excel(\"~/TX_appleseed_lenders_public/data/DallasCounty_HistoricalEvictionRecords(1).xlsx\", engine='openpyxl')"
   ]
  },
  {
   "cell_type": "code",
   "execution_count": 12,
   "id": "dcffc4db-8a76-40d1-ade4-87eac31e3969",
   "metadata": {},
   "outputs": [],
   "source": [
    "record = record.fillna('No Data')"
   ]
  },
  {
   "cell_type": "code",
   "execution_count": 13,
   "id": "cf4e838e-8f6b-4e60-a478-0c34fb20b10c",
   "metadata": {},
   "outputs": [],
   "source": [
    "data = pd.merge(judge,record, left_on='case_number', right_on='case_number', how='inner')"
   ]
  },
  {
   "cell_type": "code",
   "execution_count": 14,
   "id": "c2749cc4-54e2-4c7e-ae90-8302042b8d28",
   "metadata": {},
   "outputs": [],
   "source": [
    "data.to_csv('~/TX_appleseed_lenders_public/data/evictions_historic_merged.csv')"
   ]
  },
  {
   "cell_type": "code",
   "execution_count": 15,
   "id": "801001ef-6665-4349-8dbb-f4556745960d",
   "metadata": {},
   "outputs": [],
   "source": [
    "js = set(judge['case_number'].values)\n",
    "rs = set(record['case_number'].values)"
   ]
  },
  {
   "cell_type": "code",
   "execution_count": 16,
   "id": "c5910f90-18f0-4590-b731-4891329a8697",
   "metadata": {},
   "outputs": [
    {
     "data": {
      "text/plain": [
       "133"
      ]
     },
     "execution_count": 16,
     "metadata": {},
     "output_type": "execute_result"
    }
   ],
   "source": [
    "len(js.difference(rs))"
   ]
  },
  {
   "cell_type": "code",
   "execution_count": 17,
   "id": "f5d28176-3977-4a4c-9885-5eb36f0fb38e",
   "metadata": {},
   "outputs": [
    {
     "data": {
      "text/plain": [
       "176456"
      ]
     },
     "execution_count": 17,
     "metadata": {},
     "output_type": "execute_result"
    }
   ],
   "source": [
    "len(rs.difference(js))"
   ]
  },
  {
   "cell_type": "code",
   "execution_count": 18,
   "id": "a07efcc1-995d-4ee9-a7bd-73c99141e9b5",
   "metadata": {},
   "outputs": [
    {
     "data": {
      "text/plain": [
       "8778"
      ]
     },
     "execution_count": 18,
     "metadata": {},
     "output_type": "execute_result"
    }
   ],
   "source": [
    "len(js.intersection(rs))"
   ]
  },
  {
   "cell_type": "code",
   "execution_count": 19,
   "id": "67377491-a35c-4816-869e-1a8bfd34fcfa",
   "metadata": {},
   "outputs": [
    {
     "data": {
      "text/plain": [
       "case_number\n",
       "2200241D    3\n",
       "2220572O    3\n",
       "2200091D    3\n",
       "2200458D    3\n",
       "2200232D    3\n",
       "           ..\n",
       "2221327O    2\n",
       "2220603O    2\n",
       "2200439D    2\n",
       "2201957A    1\n",
       "2202249A    1\n",
       "Name: count, Length: 115, dtype: int64"
      ]
     },
     "execution_count": 19,
     "metadata": {},
     "output_type": "execute_result"
    }
   ],
   "source": [
    "judge['case_number'].value_counts()[:115]"
   ]
  },
  {
   "cell_type": "code",
   "execution_count": 20,
   "id": "f2f23fce-9e00-4261-8e2f-1834d80cb178",
   "metadata": {},
   "outputs": [
    {
     "data": {
      "text/plain": [
       "array([\"03/08/22 PER JUDGE O'BRIEN-CASE RESET TO 03/22/22 @1PM/VMM\",\n",
       "       \"03/08/22 PER JUDGE O'BRIEN-CASE RESET TO 03/22/22 @1PM/VMM  03/22/22 PER JUDGE O'BRIEN-CASE RESET TO 04/05 @1PM/VMM\",\n",
       "       \"03/08/22 PER JUDGE O'BRIEN-CASE RESET TO 03/22/22 @1PM/VMM  03/22/22 PER JUDGE O'BRIEN-CASE RESET TO 04/05 @1PM/VMM     04/05/22 COUNSEL FILED ENTRY OF APPEARANCE _TC              04/05/22 PER JUDGE O'BRIEN-CASE ABATED FOR 60 DAYS/LAW\"],\n",
       "      dtype=object)"
      ]
     },
     "execution_count": 20,
     "metadata": {},
     "output_type": "execute_result"
    }
   ],
   "source": [
    "judge[judge['case_number']=='2200232D']['comments'].values"
   ]
  },
  {
   "cell_type": "code",
   "execution_count": null,
   "id": "e377cb48-8c1f-4b3b-8845-12691a4ecb71",
   "metadata": {},
   "outputs": [],
   "source": []
  }
 ],
 "metadata": {
  "kernelspec": {
   "display_name": "Python 3 (ipykernel)",
   "language": "python",
   "name": "python3"
  },
  "language_info": {
   "codemirror_mode": {
    "name": "ipython",
    "version": 3
   },
   "file_extension": ".py",
   "mimetype": "text/x-python",
   "name": "python",
   "nbconvert_exporter": "python",
   "pygments_lexer": "ipython3",
   "version": "3.11.5"
  }
 },
 "nbformat": 4,
 "nbformat_minor": 5
}
