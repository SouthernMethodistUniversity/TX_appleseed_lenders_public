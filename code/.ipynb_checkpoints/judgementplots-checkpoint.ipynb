{
 "cells": [
  {
   "cell_type": "code",
   "execution_count": null,
   "id": "b6dde093-9e25-4e45-80e5-09b050d714ff",
   "metadata": {},
   "outputs": [],
   "source": [
    "import pandas as pd\n",
    "import matplotlib as plt\n",
    "import matplotlib.pyplot as plt\n",
    "\n",
    "get_ipython().run_line_magic('matplotlib', 'inline')\n",
    "get_ipython().run_line_magic('config', \"InlineBackend.figure_format ='retina'\")"
   ]
  },
  {
   "cell_type": "code",
   "execution_count": null,
   "id": "657209cb-acd7-42d1-aefc-e78ab69e9a13",
   "metadata": {},
   "outputs": [],
   "source": [
    "ev = pd.read_csv('~/TX_appleseed_lenders_public/data/evictions_historic_merged.csv')\n"
   ]
  },
  {
   "cell_type": "code",
   "execution_count": null,
   "id": "610e17b2-fa59-49dd-8bac-f78afedb8f6e",
   "metadata": {},
   "outputs": [],
   "source": [
    "ev['precinct'] = ev['court_id'].apply(lambda x: int(x/10))\n"
   ]
  },
  {
   "cell_type": "code",
   "execution_count": null,
   "id": "a8818a9c-bdf7-4312-8a2f-7003d2501d1c",
   "metadata": {},
   "outputs": [],
   "source": [
    "ev2 = ev[['precinct','GEOID_2020','judgment_amt','NAME_2020']].copy(deep=True)\n"
   ]
  },
  {
   "cell_type": "code",
   "execution_count": null,
   "id": "ce0cbd18-e22c-40e8-a63f-f09b8b535c1a",
   "metadata": {},
   "outputs": [],
   "source": [
    "hex_code = ['#F9C80E','#FF1053','#354CA1','#CC0035','#59C3C3']\n",
    "ev2['hex_code'] = ev2['precinct'].apply(lambda x: hex_code[x-1])"
   ]
  },
  {
   "cell_type": "code",
   "execution_count": null,
   "id": "355e9c1d-f457-466a-86c7-248feae19d82",
   "metadata": {},
   "outputs": [],
   "source": [
    "ev2['judgment_amt'].mean()\n"
   ]
  },
  {
   "cell_type": "code",
   "execution_count": null,
   "id": "f70596c3-142f-4c95-9a94-0f5dd94a22c5",
   "metadata": {},
   "outputs": [],
   "source": [
    "ev2[ev2['precinct']==1]['judgment_amt'].mean()\n"
   ]
  },
  {
   "cell_type": "code",
   "execution_count": null,
   "id": "62797236-93a2-439e-a65a-c39385e0c22e",
   "metadata": {},
   "outputs": [],
   "source": [
    "ev2[ev2['GEOID_2020']==48113016610]['judgment_amt'].mean()\n"
   ]
  },
  {
   "cell_type": "code",
   "execution_count": null,
   "id": "04860d84-e4e8-4d41-ac03-5508e9ad82da",
   "metadata": {},
   "outputs": [],
   "source": [
    "plot = ev2[ev2['GEOID_2020']==48113016610][['judgment_amt']].plot(kind='bar',figsize=(10,10),legend=True)\n",
    "plot.set_title('Judgement Amounts in 1 tract', fontsize=24)\n",
    "\n",
    "plt.savefig('../results/judgmentbar.png', dpi=1200)"
   ]
  },
  {
   "cell_type": "code",
   "execution_count": null,
   "id": "a9b13ab9-3e53-4957-8a02-4677dd7e5c1e",
   "metadata": {},
   "outputs": [],
   "source": [
    "ev3 = ev2[ev2['GEOID_2020']==48113016610]"
   ]
  },
  {
   "cell_type": "code",
   "execution_count": null,
   "id": "f50da6a5-aaf6-4bdd-9a09-d25c2de5e319",
   "metadata": {},
   "outputs": [],
   "source": [
    "ev2['County Mean'] = ev2['judgment_amt'].mean()\n",
    "ev2['Precinct Mean'] = ev2.apply(lambda x: ev2[ev2['precinct']==x['precinct']]['judgment_amt'].mean(),axis=1)\n",
    "ev2['Tract Mean'] = ev2.apply(lambda x: ev2[ev2['GEOID_2020']==x['GEOID_2020']]['judgment_amt'].mean(),axis=1)\n"
   ]
  },
  {
   "cell_type": "code",
   "execution_count": null,
   "id": "3427d936-ca79-4b10-a01e-fa5f4764a220",
   "metadata": {},
   "outputs": [],
   "source": [
    "ev4 = ev2[ev2['GEOID_2020']==48113016610][['County Mean','Precinct Mean','Tract Mean']].groupby(by='Tract Mean').mean().reset_index()\n"
   ]
  },
  {
   "cell_type": "code",
   "execution_count": null,
   "id": "1c7aaafd-667d-4efb-9122-134f4ffb22c4",
   "metadata": {},
   "outputs": [],
   "source": [
    "plot2 = ev4.plot(kind='bar',figsize=(10,10),legend=True)\n",
    "plot2.set_xticklabels(['48113016610'],rotation=0);\n",
    "plot2.set_title('Tract, County, and Precinct Means for 1 GEOID', fontsize=24)\n",
    "\n",
    "plt.savefig('../results/geoidmeansbar.png', dpi=1200)"
   ]
  },
  {
   "cell_type": "code",
   "execution_count": null,
   "id": "9a8ecea6-a421-4950-9e66-e9deaab736c9",
   "metadata": {},
   "outputs": [],
   "source": [
    "ev2['County Mean'] = ev2['judgment_amt'].mean()\n",
    "ev2['Precinct Mean'] = ev2.apply(lambda x: ev2[ev2['precinct']==x['precinct']]['judgment_amt'].mean(),axis=1)\n",
    "ev2['Tract Mean'] = ev2.apply(lambda x: ev2[ev2['GEOID_2020']==x['GEOID_2020']]['judgment_amt'].mean(),axis=1)\n",
    "ev2['judgment_count'] = ev2.apply(lambda x: len(ev2[ev2['GEOID_2020']==x['GEOID_2020']]),axis=1)\n",
    "new_df = ev2[['County Mean','Precinct Mean','Tract Mean','GEOID_2020','hex_code','judgment_count','NAME_2020']]"
   ]
  },
  {
   "cell_type": "code",
   "execution_count": null,
   "id": "40725161-1fc2-44d4-ace9-ffaee5cbcdab",
   "metadata": {},
   "outputs": [],
   "source": [
    "def plot_tracts(data,t,verbose=False):\n",
    "    data2 = data[data['GEOID_2020']==t][['Tract Mean','Precinct Mean','County Mean']].groupby(by='Tract Mean').mean().reset_index()\n",
    "    jc = data[data['GEOID_2020']==t]['judgment_count'].max()\n",
    "    c = data[data['GEOID_2020']==t]['hex_code'].iloc[0]\n",
    "    n = data[data['GEOID_2020']==t]['NAME_2020'].iloc[0]\n",
    "    plot = data2.plot(kind='bar',figsize=(10,10),legend=True,color=['k',c,'gray'])\n",
    "    plot.set_title('Comparative Mean Eviction Judgments by Hierarchy for: \\n {} with {} Judgments'.format(n,jc),fontsize=15)\n",
    "    plot.set_xticklabels([str(t)],rotation=0);\n",
    "    plot.set_xlabel(\"Tract   ---   Precinct   ---  County\",fontsize=12)\n",
    "    plot.set_ylabel(\"Judgment ($)\",fontsize=12)\n",
    "    plt.ylim([0,4000])\n",
    "    if verbose:\n",
    "        plot.figure.savefig('../results/judgment_avg_{}.pdf'.format(t))\n",
    "        plt.close(plot.figure)\n",
    "        return 'Saved Figure as results/judgment_avg_{}.pdf'.format(t)\n",
    "    return plot"
   ]
  },
  {
   "cell_type": "code",
   "execution_count": null,
   "id": "e3247be4-c98f-4baf-b6a2-e857a3b4c25b",
   "metadata": {},
   "outputs": [],
   "source": [
    "\n",
    "def plot_tracts_ratio(data,t,verbose=False):\n",
    "    data2 = data[data['GEOID_2020']==t][['Tract Mean','Precinct Mean','County Mean']].groupby(by='Tract Mean').mean().reset_index()\n",
    "    data2 = data2/data2['County Mean'][0] * 100\n",
    "    jc = data[data['GEOID_2020']==t]['judgment_count'].max()\n",
    "    c = data[data['GEOID_2020']==t]['hex_code'].iloc[0]\n",
    "    n = data[data['GEOID_2020']==t]['NAME_2020'].iloc[0]\n",
    "    plot = data2.plot(kind='bar',figsize=(10,10),legend=True,color=['k',c,'gray'],hatch=['/'])\n",
    "    plot.set_title('Ratio of Comparative Mean Eviction Judgments by Hierarchy for: \\n {} with {} Judgments'.format(n,jc),fontsize=15)\n",
    "    plot.set_xticklabels([str(t)],rotation=0);\n",
    "    plot.set_xlabel(\"Tract   ---   Precinct   ---  County\",fontsize=12)\n",
    "    plot.set_ylabel(\"Judgments as Percent of County Mean\",fontsize=12)\n",
    "    plt.ylim([0,200])\n",
    "    if verbose:\n",
    "        plot.figure.savefig('../results/ratio_judgment_avg_{}.pdf'.format(t))\n",
    "        plt.close(plot.figure)\n",
    "        return 'Saved Figure as results/ratio_judgment_avg_{}.pdf'.format(t)\n",
    "    return plot"
   ]
  },
  {
   "cell_type": "code",
   "execution_count": null,
   "id": "6223015f-042d-4d78-8153-6ae348f97aa3",
   "metadata": {},
   "outputs": [],
   "source": [
    "plot_tracts(new_df,48113016610,True)\n"
   ]
  },
  {
   "cell_type": "code",
   "execution_count": null,
   "id": "d9fc0a8b-6fd8-4fae-ad8f-1037c34ced49",
   "metadata": {},
   "outputs": [],
   "source": [
    "plot_tracts_ratio(ev2,48113019214,True)\n"
   ]
  },
  {
   "cell_type": "code",
   "execution_count": null,
   "id": "7e7e66aa-cf72-486c-9bc0-74d1989da2ba",
   "metadata": {},
   "outputs": [],
   "source": []
  }
 ],
 "metadata": {
  "kernelspec": {
   "display_name": "Python 3 (ipykernel)",
   "language": "python",
   "name": "python3"
  },
  "language_info": {
   "codemirror_mode": {
    "name": "ipython",
    "version": 3
   },
   "file_extension": ".py",
   "mimetype": "text/x-python",
   "name": "python",
   "nbconvert_exporter": "python",
   "pygments_lexer": "ipython3",
   "version": "3.11.5"
  }
 },
 "nbformat": 4,
 "nbformat_minor": 5
}
