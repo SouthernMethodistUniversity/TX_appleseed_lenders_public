{
 "cells": [
  {
   "cell_type": "code",
   "execution_count": 1,
   "id": "25c49385-5d75-41a1-ad44-74edb1897335",
   "metadata": {},
   "outputs": [],
   "source": [
    "import pandas as pd\n",
    "import numpy as np"
   ]
  },
  {
   "cell_type": "code",
   "execution_count": 4,
   "id": "2e47ae90-bf10-4a5a-af60-c5214044ec0d",
   "metadata": {},
   "outputs": [],
   "source": [
    "data=pd.read_csv('~/TX_appleseed_lenders_public/data/income(1).csv')"
   ]
  },
  {
   "cell_type": "code",
   "execution_count": 5,
   "id": "884f59cc-2e7f-4d14-9f69-6ec6f98f6b72",
   "metadata": {},
   "outputs": [],
   "source": [
    "data=data[['Label (Grouping)','Occupied housing units','Occupied housing units!!HOUSEHOLD INCOME IN THE PAST 12 MONTHS (IN 2020 INFLATION-ADJUSTED DOLLARS)!!Median household income (dollars)', 'Occupied housing units!!MONTHLY HOUSING COSTS!!Median (dollars)',\n",
    " ]]"
   ]
  },
  {
   "cell_type": "code",
   "execution_count": 6,
   "id": "4e57e9ef-ef96-4072-8e9e-c5bcf4f6d776",
   "metadata": {},
   "outputs": [],
   "source": [
    "data['Occupied housing units'] = data['Occupied housing units'].shift(-1)"
   ]
  },
  {
   "cell_type": "code",
   "execution_count": 7,
   "id": "dfd77a65-89c1-4619-aca5-752e14f53acf",
   "metadata": {},
   "outputs": [],
   "source": [
    "data['Occupied housing units!!HOUSEHOLD INCOME IN THE PAST 12 MONTHS (IN 2020 INFLATION-ADJUSTED DOLLARS)!!Median household income (dollars)']=data['Occupied housing units!!HOUSEHOLD INCOME IN THE PAST 12 MONTHS (IN 2020 INFLATION-ADJUSTED DOLLARS)!!Median household income (dollars)'].shift(-1)"
   ]
  },
  {
   "cell_type": "code",
   "execution_count": 8,
   "id": "03a54c17-17f7-4240-91b5-545dbd438f5b",
   "metadata": {},
   "outputs": [],
   "source": [
    "data['Occupied housing units!!MONTHLY HOUSING COSTS!!Median (dollars)']=data['Occupied housing units!!MONTHLY HOUSING COSTS!!Median (dollars)'].shift(-1)"
   ]
  },
  {
   "cell_type": "code",
   "execution_count": 9,
   "id": "5bb20eb4-0416-4f90-a586-772ded2dad7a",
   "metadata": {},
   "outputs": [],
   "source": [
    "data=data.drop(data[data[\"Label (Grouping)\"].str.contains(\"Estimate\")].index)"
   ]
  },
  {
   "cell_type": "code",
   "execution_count": 10,
   "id": "4db2db17-a1d7-4eed-9180-f4ac9268f73f",
   "metadata": {},
   "outputs": [],
   "source": [
    "data=data.drop(data[data[\"Label (Grouping)\"].str.contains(\"Percent\")].index)"
   ]
  },
  {
   "cell_type": "code",
   "execution_count": 11,
   "id": "b691041e-d941-411e-ab3d-aeaa800318b3",
   "metadata": {},
   "outputs": [],
   "source": [
    "data = data.reset_index().drop(columns=['index'])"
   ]
  },
  {
   "cell_type": "code",
   "execution_count": 12,
   "id": "8031fc0b-c735-4af7-8df1-41c8b40ae571",
   "metadata": {},
   "outputs": [],
   "source": [
    "tract=data['Label (Grouping)'][0::4]"
   ]
  },
  {
   "cell_type": "code",
   "execution_count": 13,
   "id": "8af11bb1-2b6e-4790-8965-6536d5094806",
   "metadata": {},
   "outputs": [],
   "source": [
    "thu=data['Occupied housing units'][1::4]\n",
    "oohu=data['Occupied housing units'][2::4]\n",
    "renthu=data['Occupied housing units'][3::4]"
   ]
  },
  {
   "cell_type": "code",
   "execution_count": 14,
   "id": "795c4b62-0672-4b4a-bad8-8b6e4ed21287",
   "metadata": {},
   "outputs": [],
   "source": [
    "medincoccupied=data['Occupied housing units!!HOUSEHOLD INCOME IN THE PAST 12 MONTHS (IN 2020 INFLATION-ADJUSTED DOLLARS)!!Median household income (dollars)'][1::4]\n",
    "medincowners=data['Occupied housing units!!HOUSEHOLD INCOME IN THE PAST 12 MONTHS (IN 2020 INFLATION-ADJUSTED DOLLARS)!!Median household income (dollars)'][2::4]\n",
    "medincrenters=data['Occupied housing units!!HOUSEHOLD INCOME IN THE PAST 12 MONTHS (IN 2020 INFLATION-ADJUSTED DOLLARS)!!Median household income (dollars)'][3::4]"
   ]
  },
  {
   "cell_type": "code",
   "execution_count": 15,
   "id": "38877646-6246-4850-a690-3a5b972d529f",
   "metadata": {},
   "outputs": [],
   "source": [
    "test = np.transpose([tract,thu,oohu,renthu,medincoccupied,medincowners,medincrenters])"
   ]
  },
  {
   "cell_type": "code",
   "execution_count": 16,
   "id": "088890ea-8876-403e-9e7f-1d56b5250d8c",
   "metadata": {},
   "outputs": [],
   "source": [
    "qdata = pd.DataFrame(test,columns=['a','b','c','d','e','f','g'])"
   ]
  },
  {
   "cell_type": "code",
   "execution_count": 17,
   "id": "5f02950e-528b-4034-b7af-7d25b6420250",
   "metadata": {},
   "outputs": [],
   "source": [
    "qdata['b']=qdata['b'].apply(lambda x: int(''.join(x.split(','))))"
   ]
  },
  {
   "cell_type": "code",
   "execution_count": 18,
   "id": "481aac5d-dee1-4c25-a8fa-2381c4e5f0c3",
   "metadata": {},
   "outputs": [],
   "source": [
    "qdata['c']=qdata['c'].fillna('0')\n",
    "qdata['d']=qdata['d'].fillna('0')\n",
    "qdata['e']=qdata['e'].fillna('0')\n",
    "qdata['f']=qdata['f'].fillna('0')\n",
    "qdata['g']=qdata['g'].fillna('0')"
   ]
  },
  {
   "cell_type": "code",
   "execution_count": 19,
   "id": "947fe0c4-82e7-4e4e-8928-a09371131a3d",
   "metadata": {},
   "outputs": [],
   "source": [
    "qdata=qdata.replace('250,000+','250,000')"
   ]
  },
  {
   "cell_type": "code",
   "execution_count": 20,
   "id": "982a9df1-d2d9-46df-a347-c14324cbdc64",
   "metadata": {},
   "outputs": [],
   "source": [
    "qdata=qdata.replace('-','0')"
   ]
  },
  {
   "cell_type": "code",
   "execution_count": 21,
   "id": "de1b8a5a-71e8-42d8-9a46-7b48304d53ca",
   "metadata": {},
   "outputs": [],
   "source": [
    "qdata['c']=qdata['c'].apply(lambda x: int(''.join(x.split(','))))\n",
    "qdata['d']=qdata['d'].apply(lambda x: int(''.join(x.split(','))))\n",
    "qdata['e']=qdata['e'].apply(lambda x: int(''.join(x.split(','))))\n",
    "qdata['f']=qdata['f'].apply(lambda x: int(''.join(x.split(','))))\n",
    "qdata['g']=qdata['g'].apply(lambda x: int(''.join(x.split(','))))"
   ]
  },
  {
   "cell_type": "code",
   "execution_count": 22,
   "id": "dbb206ad-1629-4919-9bec-f473b1c5544d",
   "metadata": {},
   "outputs": [],
   "source": [
    "qdata['Validation']=qdata.apply(lambda x: (x['c']+x['d'])-x['b'],axis=1)"
   ]
  },
  {
   "cell_type": "code",
   "execution_count": 23,
   "id": "8c1d15ee-a5bd-4bd0-bf7e-1ed71a69e508",
   "metadata": {},
   "outputs": [],
   "source": [
    "data=qdata.rename(columns={'a':'Tract','b':'Total Housing Units','c':'Owner Housing Units','d':'Renter Housing Units','e':'Total Median Income','f':'Owner Median Income','g':'Renter Median Outcome'})"
   ]
  },
  {
   "cell_type": "code",
   "execution_count": 24,
   "id": "77c2e148-5263-4f10-9afb-bbba1a268c4b",
   "metadata": {},
   "outputs": [],
   "source": [
    "data.to_csv('~/TX_appleseed_lenders_public/data/incomedata_clean.csv',index=False)"
   ]
  },
  {
   "cell_type": "code",
   "execution_count": null,
   "id": "343fbeb3-ca6a-4b3c-9b06-787e5c2944c5",
   "metadata": {},
   "outputs": [],
   "source": []
  }
 ],
 "metadata": {
  "kernelspec": {
   "display_name": "Python 3 (ipykernel)",
   "language": "python",
   "name": "python3"
  },
  "language_info": {
   "codemirror_mode": {
    "name": "ipython",
    "version": 3
   },
   "file_extension": ".py",
   "mimetype": "text/x-python",
   "name": "python",
   "nbconvert_exporter": "python",
   "pygments_lexer": "ipython3",
   "version": "3.11.5"
  }
 },
 "nbformat": 4,
 "nbformat_minor": 5
}
