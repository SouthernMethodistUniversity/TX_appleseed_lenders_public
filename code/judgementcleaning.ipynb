{
 "cells": [
  {
   "cell_type": "code",
   "execution_count": null,
   "id": "af44fb84-bc6b-4b73-8a26-fd023f004501",
   "metadata": {},
   "outputs": [],
   "source": [
    "import pandas as pd\n",
    "%pip install openpyxl"
   ]
  },
  {
   "cell_type": "code",
   "execution_count": null,
   "id": "bf76f65d-7d2a-4e33-9d2e-67405154d1cc",
   "metadata": {},
   "outputs": [],
   "source": [
    "judge = pd.read_excel(\"~/TX_appleseed_lenders_public/data/DallasCounty_EvictionJudgements(1).xlsx\", engine='openpyxl')"
   ]
  },
  {
   "cell_type": "code",
   "execution_count": null,
   "id": "60461fac-f7d8-49a4-ab1b-8ac0f45ddf45",
   "metadata": {},
   "outputs": [],
   "source": [
    "judge['comments'].str.split(' ')"
   ]
  },
  {
   "cell_type": "code",
   "execution_count": null,
   "id": "ea6732dd-e136-4cb8-adb3-a4940797e215",
   "metadata": {},
   "outputs": [],
   "source": [
    "judge['judgment_amt'].values"
   ]
  },
  {
   "cell_type": "code",
   "execution_count": null,
   "id": "b3302814-888d-4d5c-bda0-01ef6bcc1621",
   "metadata": {},
   "outputs": [],
   "source": [
    "len(judge[(judge['judgment_amt']!='     0.00')])"
   ]
  },
  {
   "cell_type": "code",
   "execution_count": null,
   "id": "967e7c3b-7eaf-4f79-a95c-2e9d132efbbf",
   "metadata": {},
   "outputs": [],
   "source": [
    "judge[judge['comments'].str.contains('INTERP')]"
   ]
  },
  {
   "cell_type": "code",
   "execution_count": null,
   "id": "e56868ce-c0d8-4a85-b633-a1579f3649cd",
   "metadata": {},
   "outputs": [],
   "source": [
    "judge[(judge['judgment_amt']!='     0.00')&(judge['comments'].str.contains('DEFAULT'))]"
   ]
  },
  {
   "cell_type": "code",
   "execution_count": null,
   "id": "19e299a1-7719-4a76-82e4-1e349e15fd45",
   "metadata": {},
   "outputs": [],
   "source": [
    "record = pd.read_excel(\"~/TX_appleseed_lenders_public/data/DallasCounty_HistoricalEvictionRecords(1).xlsx\", engine='openpyxl')"
   ]
  },
  {
   "cell_type": "code",
   "execution_count": null,
   "id": "dcffc4db-8a76-40d1-ade4-87eac31e3969",
   "metadata": {},
   "outputs": [],
   "source": [
    "record = record.fillna('No Data')"
   ]
  },
  {
   "cell_type": "code",
   "execution_count": null,
   "id": "cf4e838e-8f6b-4e60-a478-0c34fb20b10c",
   "metadata": {},
   "outputs": [],
   "source": [
    "data = pd.merge(judge,record, left_on='case_number', right_on='case_number', how='inner')"
   ]
  },
  {
   "cell_type": "code",
   "execution_count": null,
   "id": "c2749cc4-54e2-4c7e-ae90-8302042b8d28",
   "metadata": {},
   "outputs": [],
   "source": [
    "data.to_csv('~/TX_appleseed_lenders_public/data/evictions_historic_merged.csv')"
   ]
  },
  {
   "cell_type": "code",
   "execution_count": null,
   "id": "801001ef-6665-4349-8dbb-f4556745960d",
   "metadata": {},
   "outputs": [],
   "source": [
    "js = set(judge['case_number'].values)\n",
    "rs = set(record['case_number'].values)"
   ]
  },
  {
   "cell_type": "code",
   "execution_count": null,
   "id": "c5910f90-18f0-4590-b731-4891329a8697",
   "metadata": {},
   "outputs": [],
   "source": [
    "len(js.difference(rs))"
   ]
  },
  {
   "cell_type": "code",
   "execution_count": null,
   "id": "f5d28176-3977-4a4c-9885-5eb36f0fb38e",
   "metadata": {},
   "outputs": [],
   "source": [
    "len(rs.difference(js))"
   ]
  },
  {
   "cell_type": "code",
   "execution_count": null,
   "id": "a07efcc1-995d-4ee9-a7bd-73c99141e9b5",
   "metadata": {},
   "outputs": [],
   "source": [
    "len(js.intersection(rs))"
   ]
  },
  {
   "cell_type": "code",
   "execution_count": null,
   "id": "67377491-a35c-4816-869e-1a8bfd34fcfa",
   "metadata": {},
   "outputs": [],
   "source": [
    "judge['case_number'].value_counts()[:115]"
   ]
  },
  {
   "cell_type": "code",
   "execution_count": null,
   "id": "f2f23fce-9e00-4261-8e2f-1834d80cb178",
   "metadata": {},
   "outputs": [],
   "source": [
    "judge[judge['case_number']=='2200232D']['comments'].values"
   ]
  },
  {
   "cell_type": "code",
   "execution_count": null,
   "id": "e377cb48-8c1f-4b3b-8845-12691a4ecb71",
   "metadata": {},
   "outputs": [],
   "source": []
  }
 ],
 "metadata": {
  "kernelspec": {
   "display_name": "Python 3 (ipykernel)",
   "language": "python",
   "name": "python3"
  },
  "language_info": {
   "codemirror_mode": {
    "name": "ipython",
    "version": 3
   },
   "file_extension": ".py",
   "mimetype": "text/x-python",
   "name": "python",
   "nbconvert_exporter": "python",
   "pygments_lexer": "ipython3",
   "version": "3.11.5"
  }
 },
 "nbformat": 4,
 "nbformat_minor": 5
}
